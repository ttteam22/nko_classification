{
 "cells": [
  {
   "cell_type": "code",
   "execution_count": 10,
   "metadata": {},
   "outputs": [
    {
     "ename": "ModuleNotFoundError",
     "evalue": "No module named 'nltk'",
     "output_type": "error",
     "traceback": [
      "\u001b[0;31m---------------------------------------------------------------------------\u001b[0m",
      "\u001b[0;31mModuleNotFoundError\u001b[0m                       Traceback (most recent call last)",
      "\u001b[0;32m<ipython-input-10-00d69c483e0b>\u001b[0m in \u001b[0;36m<module>\u001b[0;34m\u001b[0m\n\u001b[1;32m      2\u001b[0m \u001b[0;32mimport\u001b[0m \u001b[0mparser\u001b[0m\u001b[0;34m\u001b[0m\u001b[0m\n\u001b[1;32m      3\u001b[0m \u001b[0;32mimport\u001b[0m \u001b[0mimp\u001b[0m\u001b[0;34m\u001b[0m\u001b[0m\n\u001b[0;32m----> 4\u001b[0;31m \u001b[0;32mimport\u001b[0m \u001b[0mpreprocessing\u001b[0m\u001b[0;34m\u001b[0m\u001b[0m\n\u001b[0m\u001b[1;32m      5\u001b[0m \u001b[0mpp\u001b[0m \u001b[0;34m=\u001b[0m \u001b[0mpreprocessing\u001b[0m\u001b[0;34m.\u001b[0m\u001b[0mPreprocessingInterface\u001b[0m\u001b[0;34m(\u001b[0m\u001b[0;34m)\u001b[0m\u001b[0;34m\u001b[0m\u001b[0m\n",
      "\u001b[0;32m~/PycharmProjects/nko_classification/preprocessing.py\u001b[0m in \u001b[0;36m<module>\u001b[0;34m\u001b[0m\n\u001b[1;32m      8\u001b[0m \u001b[0;34m\u001b[0m\u001b[0m\n\u001b[1;32m      9\u001b[0m \u001b[0;31m# NLP\u001b[0m\u001b[0;34m\u001b[0m\u001b[0;34m\u001b[0m\u001b[0m\n\u001b[0;32m---> 10\u001b[0;31m \u001b[0;32mimport\u001b[0m \u001b[0mnltk\u001b[0m\u001b[0;34m\u001b[0m\u001b[0m\n\u001b[0m\u001b[1;32m     11\u001b[0m \u001b[0;32mfrom\u001b[0m \u001b[0mnltk\u001b[0m\u001b[0;34m.\u001b[0m\u001b[0mcorpus\u001b[0m \u001b[0;32mimport\u001b[0m \u001b[0mstopwords\u001b[0m\u001b[0;34m\u001b[0m\u001b[0m\n\u001b[1;32m     12\u001b[0m \u001b[0;32mimport\u001b[0m \u001b[0mpymorphy2\u001b[0m\u001b[0;34m\u001b[0m\u001b[0m\n",
      "\u001b[0;31mModuleNotFoundError\u001b[0m: No module named 'nltk'"
     ]
    }
   ],
   "source": [
    "import pandas as pd\n",
    "import parser\n",
    "import imp\n",
    "import preprocessing\n",
    "pp = preprocessing.PreprocessingInterface()"
   ]
  },
  {
   "cell_type": "code",
   "execution_count": 18,
   "metadata": {},
   "outputs": [
    {
     "name": "stdout",
     "output_type": "stream",
     "text": [
      "202\n"
     ]
    },
    {
     "data": {
      "text/html": [
       "<div>\n",
       "<style scoped>\n",
       "    .dataframe tbody tr th:only-of-type {\n",
       "        vertical-align: middle;\n",
       "    }\n",
       "\n",
       "    .dataframe tbody tr th {\n",
       "        vertical-align: top;\n",
       "    }\n",
       "\n",
       "    .dataframe thead th {\n",
       "        text-align: right;\n",
       "    }\n",
       "</style>\n",
       "<table border=\"1\" class=\"dataframe\">\n",
       "  <thead>\n",
       "    <tr style=\"text-align: right;\">\n",
       "      <th></th>\n",
       "      <th>Регион</th>\n",
       "      <th>Название организации</th>\n",
       "      <th>ИНН</th>\n",
       "      <th>Год регистрации</th>\n",
       "      <th>Адресс</th>\n",
       "      <th>Возможность пожертвовать деньги на сайте</th>\n",
       "      <th>Возможность обратиться за помощью</th>\n",
       "      <th>Ссылка на сайт</th>\n",
       "      <th>Вид деятельности 1</th>\n",
       "      <th>Вид деятельности 2</th>\n",
       "      <th>...</th>\n",
       "      <th>Вид деятельности 5</th>\n",
       "      <th>Вид деятельности 6</th>\n",
       "      <th>Вид деятельности 7</th>\n",
       "      <th>Вид деятельности 8</th>\n",
       "      <th>Вид деятельности 9</th>\n",
       "      <th>Вид деятельности 10</th>\n",
       "      <th>Вид деятельности 11</th>\n",
       "      <th>Вид деятельности 12</th>\n",
       "      <th>num_sites</th>\n",
       "      <th>web_text</th>\n",
       "    </tr>\n",
       "  </thead>\n",
       "  <tbody>\n",
       "    <tr>\n",
       "      <th>0</th>\n",
       "      <td>Москва</td>\n",
       "      <td>Межрегиональная общественная благотворительная...</td>\n",
       "      <td>5032173157</td>\n",
       "      <td>2007-07-12</td>\n",
       "      <td>г Москва, Орехово-Борисово Южное р-н, МКАД 23-...</td>\n",
       "      <td>0</td>\n",
       "      <td>0</td>\n",
       "      <td>http://greenstartup.ru/</td>\n",
       "      <td>3_2</td>\n",
       "      <td>6_1</td>\n",
       "      <td>...</td>\n",
       "      <td>NaN</td>\n",
       "      <td>NaN</td>\n",
       "      <td>NaN</td>\n",
       "      <td>NaN</td>\n",
       "      <td>NaN</td>\n",
       "      <td>NaN</td>\n",
       "      <td>NaN</td>\n",
       "      <td>NaN</td>\n",
       "      <td>2</td>\n",
       "      <td>[function set_cookie(){var now = new Date();va...</td>\n",
       "    </tr>\n",
       "  </tbody>\n",
       "</table>\n",
       "<p>1 rows × 22 columns</p>\n",
       "</div>"
      ],
      "text/plain": [
       "   Регион                               Название организации         ИНН  \\\n",
       "0  Москва  Межрегиональная общественная благотворительная...  5032173157   \n",
       "\n",
       "  Год регистрации                                             Адресс  \\\n",
       "0      2007-07-12  г Москва, Орехово-Борисово Южное р-н, МКАД 23-...   \n",
       "\n",
       "   Возможность пожертвовать деньги на сайте  \\\n",
       "0                                         0   \n",
       "\n",
       "   Возможность обратиться за помощью           Ссылка на сайт  \\\n",
       "0                                  0  http://greenstartup.ru/   \n",
       "\n",
       "  Вид деятельности 1 Вид деятельности 2  \\\n",
       "0                3_2                6_1   \n",
       "\n",
       "                         ...                         Вид деятельности 5  \\\n",
       "0                        ...                                        NaN   \n",
       "\n",
       "  Вид деятельности 6 Вид деятельности 7 Вид деятельности 8 Вид деятельности 9  \\\n",
       "0                NaN                NaN                NaN                NaN   \n",
       "\n",
       "  Вид деятельности 10 Вид деятельности 11 Вид деятельности 12 num_sites  \\\n",
       "0                 NaN                 NaN                 NaN         2   \n",
       "\n",
       "                                            web_text  \n",
       "0  [function set_cookie(){var now = new Date();va...  \n",
       "\n",
       "[1 rows x 22 columns]"
      ]
     },
     "execution_count": 18,
     "metadata": {},
     "output_type": "execute_result"
    }
   ],
   "source": [
    "df = pd.read_pickle(\"np_ngo_classification_links.pkl\")\n",
    "print(len(df))\n",
    "df.head(1)"
   ]
  },
  {
   "cell_type": "code",
   "execution_count": null,
   "metadata": {},
   "outputs": [],
   "source": []
  },
  {
   "cell_type": "code",
   "execution_count": 23,
   "metadata": {},
   "outputs": [
    {
     "ename": "NameError",
     "evalue": "name 'df1' is not defined",
     "output_type": "error",
     "traceback": [
      "\u001b[0;31m---------------------------------------------------------------------------\u001b[0m",
      "\u001b[0;31mNameError\u001b[0m                                 Traceback (most recent call last)",
      "\u001b[0;32m<ipython-input-23-9837d4af1c26>\u001b[0m in \u001b[0;36m<module>\u001b[0;34m\u001b[0m\n\u001b[0;32m----> 1\u001b[0;31m \u001b[0mdf1\u001b[0m\u001b[0;34m[\u001b[0m\u001b[0;34m'description_makeshift'\u001b[0m\u001b[0;34m]\u001b[0m \u001b[0;34m=\u001b[0m \u001b[0mdf1\u001b[0m\u001b[0;34m[\u001b[0m\u001b[0;34m'description'\u001b[0m\u001b[0;34m]\u001b[0m\u001b[0;34m.\u001b[0m\u001b[0mapply\u001b[0m\u001b[0;34m(\u001b[0m\u001b[0mpp\u001b[0m\u001b[0;34m.\u001b[0m\u001b[0mmakeshift_clean\u001b[0m\u001b[0;34m)\u001b[0m\u001b[0;34m\u001b[0m\u001b[0m\n\u001b[0m\u001b[1;32m      2\u001b[0m \u001b[0mdf1\u001b[0m\u001b[0;34m[\u001b[0m\u001b[0;34m\"text_normalized\"\u001b[0m\u001b[0;34m]\u001b[0m \u001b[0;34m=\u001b[0m \u001b[0mdf1\u001b[0m\u001b[0;34m[\u001b[0m\u001b[0;34m\"description_makeshift\"\u001b[0m\u001b[0;34m]\u001b[0m\u001b[0;34m.\u001b[0m\u001b[0mapply\u001b[0m\u001b[0;34m(\u001b[0m\u001b[0mpp\u001b[0m\u001b[0;34m.\u001b[0m\u001b[0mnormalize\u001b[0m\u001b[0;34m)\u001b[0m\u001b[0;34m\u001b[0m\u001b[0m\n\u001b[1;32m      3\u001b[0m \u001b[0mdf1\u001b[0m\u001b[0;34m[\u001b[0m\u001b[0;34m\"text_padded\"\u001b[0m\u001b[0;34m]\u001b[0m \u001b[0;34m=\u001b[0m \u001b[0mdf1\u001b[0m\u001b[0;34m[\u001b[0m\u001b[0;34m\"text_normalized\"\u001b[0m\u001b[0;34m]\u001b[0m\u001b[0;34m.\u001b[0m\u001b[0mapply\u001b[0m\u001b[0;34m(\u001b[0m\u001b[0mpp\u001b[0m\u001b[0;34m.\u001b[0m\u001b[0mpad_punctuation\u001b[0m\u001b[0;34m)\u001b[0m\u001b[0;34m\u001b[0m\u001b[0m\n\u001b[1;32m      4\u001b[0m \u001b[0mdf1\u001b[0m\u001b[0;34m[\u001b[0m\u001b[0;34m\"tokenized\"\u001b[0m\u001b[0;34m]\u001b[0m \u001b[0;34m=\u001b[0m \u001b[0mdf1\u001b[0m\u001b[0;34m[\u001b[0m\u001b[0;34m\"text_padded\"\u001b[0m\u001b[0;34m]\u001b[0m\u001b[0;34m.\u001b[0m\u001b[0mapply\u001b[0m\u001b[0;34m(\u001b[0m\u001b[0mpp\u001b[0m\u001b[0;34m.\u001b[0m\u001b[0mtokenize\u001b[0m\u001b[0;34m)\u001b[0m\u001b[0;34m\u001b[0m\u001b[0m\n\u001b[1;32m      5\u001b[0m \u001b[0mdf1\u001b[0m\u001b[0;34m[\u001b[0m\u001b[0;34m\"no_punct\"\u001b[0m\u001b[0;34m]\u001b[0m \u001b[0;34m=\u001b[0m \u001b[0mdf1\u001b[0m\u001b[0;34m[\u001b[0m\u001b[0;34m\"tokenized\"\u001b[0m\u001b[0;34m]\u001b[0m\u001b[0;34m.\u001b[0m\u001b[0mapply\u001b[0m\u001b[0;34m(\u001b[0m\u001b[0mpp\u001b[0m\u001b[0;34m.\u001b[0m\u001b[0mremove_punct\u001b[0m\u001b[0;34m)\u001b[0m\u001b[0;34m\u001b[0m\u001b[0m\n",
      "\u001b[0;31mNameError\u001b[0m: name 'df1' is not defined"
     ]
    }
   ],
   "source": [
    "df1['description_makeshift'] = df1['description'].apply(pp.makeshift_clean)\n",
    "df1[\"text_normalized\"] = df1[\"description_makeshift\"].apply(pp.normalize)\n",
    "df1[\"text_padded\"] = df1[\"text_normalized\"].apply(pp.pad_punctuation)\n",
    "df1[\"tokenized\"] = df1[\"text_padded\"].apply(pp.tokenize)\n",
    "df1[\"no_punct\"] = df1[\"tokenized\"].apply(pp.remove_punct)\n",
    "df1[\"text_no_stop\"] = df1[\"no_punct\"].apply(pp.remove_stopwords)\n",
    "df1[\"preprocessed_tokens\"] = df1[\"text_no_stop\"].apply(pp.remove_digits)\n",
    "df1[\"lemmatized\"] = df1[\"preprocessed_tokens\"].apply(pp.lemmatize_tokens_with_mystem)\n",
    "df1[\"lemmatized\"].replace('', np.nan, inplace=True)\n",
    "df1[\"preprocessed_text\"] = df1[\"lemmatized\"].apply(\" \".join)\n",
    "df1.dropna(inplace=True)"
   ]
  },
  {
   "cell_type": "code",
   "execution_count": null,
   "metadata": {},
   "outputs": [],
   "source": [
    "dataset['normalized'] = dataset['signature_cut'].apply(pp.normalize)\n",
    "padded = dataset['normalized'].apply(pp.pad_punctuation)\n",
    "dataset[\"tokenized\"] = padded.apply(pp.tokenize)\n",
    "dataset[\"no_punct\"] = dataset[\"tokenized\"].apply(pp.remove_punct)\n",
    "dataset[\"no_stopwords\"] = dataset[\"no_punct\"].apply(pp.remove_stopwords)\n",
    "dataset[\"lemmatized_by_mystem\"] = dataset[\"no_stopwords\"].apply(pp.lemmatize_with_mystem)"
   ]
  },
  {
   "cell_type": "code",
   "execution_count": null,
   "metadata": {},
   "outputs": [],
   "source": []
  }
 ],
 "metadata": {
  "kernelspec": {
   "display_name": "Python 3",
   "language": "python",
   "name": "python3"
  },
  "language_info": {
   "codemirror_mode": {
    "name": "ipython",
    "version": 3
   },
   "file_extension": ".py",
   "mimetype": "text/x-python",
   "name": "python",
   "nbconvert_exporter": "python",
   "pygments_lexer": "ipython3",
   "version": "3.6.0"
  }
 },
 "nbformat": 4,
 "nbformat_minor": 2
}
