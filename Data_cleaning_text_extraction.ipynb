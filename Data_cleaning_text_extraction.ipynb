{
 "cells": [
  {
   "cell_type": "code",
   "execution_count": 137,
   "metadata": {},
   "outputs": [
    {
     "data": {
      "text/plain": [
       "<module 'parser' from '/home/tonko22/PycharmProjects/npo_classification/parser.py'>"
      ]
     },
     "execution_count": 137,
     "metadata": {},
     "output_type": "execute_result"
    }
   ],
   "source": [
    "import pandas as pd\n",
    "import parser\n",
    "import imp\n",
    "\n",
    "pd.options.display.max_rows = 999\n",
    "pd.options.display.max_colwidth = 100\n",
    "imp.reload(parser)"
   ]
  },
  {
   "cell_type": "code",
   "execution_count": 139,
   "metadata": {},
   "outputs": [
    {
     "name": "stdout",
     "output_type": "stream",
     "text": [
      "[master 9e5d6f8] minor fix\r\n",
      " 2 files changed, 8 insertions(+), 61 deletions(-)\r\n"
     ]
    }
   ],
   "source": [
    "!git commit -a -m \"minor fix\""
   ]
  },
  {
   "cell_type": "code",
   "execution_count": 154,
   "metadata": {},
   "outputs": [
    {
     "data": {
      "text/html": [
       "<div>\n",
       "<style scoped>\n",
       "    .dataframe tbody tr th:only-of-type {\n",
       "        vertical-align: middle;\n",
       "    }\n",
       "\n",
       "    .dataframe tbody tr th {\n",
       "        vertical-align: top;\n",
       "    }\n",
       "\n",
       "    .dataframe thead th {\n",
       "        text-align: right;\n",
       "    }\n",
       "</style>\n",
       "<table border=\"1\" class=\"dataframe\">\n",
       "  <thead>\n",
       "    <tr style=\"text-align: right;\">\n",
       "      <th></th>\n",
       "      <th>Регион</th>\n",
       "      <th>Название организации</th>\n",
       "      <th>ИНН</th>\n",
       "      <th>Год регистрации</th>\n",
       "      <th>Адресс</th>\n",
       "      <th>Возможность пожертвовать деньги на сайте</th>\n",
       "      <th>Возможность обратиться за помощью</th>\n",
       "      <th>Ссылка на сайт</th>\n",
       "      <th>Ссылка на соц сеть</th>\n",
       "      <th>Вид деятельности 1</th>\n",
       "      <th>...</th>\n",
       "      <th>Вид деятельности 3</th>\n",
       "      <th>Вид деятельности 4</th>\n",
       "      <th>Вид деятельности 5</th>\n",
       "      <th>Вид деятельности 6</th>\n",
       "      <th>Вид деятельности 7</th>\n",
       "      <th>Вид деятельности 8</th>\n",
       "      <th>Вид деятельности 9</th>\n",
       "      <th>Вид деятельности 10</th>\n",
       "      <th>Вид деятельности 11</th>\n",
       "      <th>Вид деятельности 12</th>\n",
       "    </tr>\n",
       "  </thead>\n",
       "  <tbody>\n",
       "    <tr>\n",
       "      <th>0</th>\n",
       "      <td>Москва</td>\n",
       "      <td>Межрегиональная общественная благотворительная организация \"Общество защиты прав потребителей и ...</td>\n",
       "      <td>5032173157</td>\n",
       "      <td>2007-07-12</td>\n",
       "      <td>г Москва, Орехово-Борисово Южное р-н, МКАД 23-й км, д 6</td>\n",
       "      <td>0</td>\n",
       "      <td>0</td>\n",
       "      <td>http://greenstartup.ru/, http:/9911850.ru/</td>\n",
       "      <td>https://princip1.livejournal.com/</td>\n",
       "      <td>3_2</td>\n",
       "      <td>...</td>\n",
       "      <td>NaN</td>\n",
       "      <td>NaN</td>\n",
       "      <td>NaN</td>\n",
       "      <td>NaN</td>\n",
       "      <td>NaN</td>\n",
       "      <td>NaN</td>\n",
       "      <td>NaN</td>\n",
       "      <td>NaN</td>\n",
       "      <td>NaN</td>\n",
       "      <td>NaN</td>\n",
       "    </tr>\n",
       "  </tbody>\n",
       "</table>\n",
       "<p>1 rows × 21 columns</p>\n",
       "</div>"
      ],
      "text/plain": [
       "   Регион  \\\n",
       "0  Москва   \n",
       "\n",
       "                                                                                  Название организации  \\\n",
       "0  Межрегиональная общественная благотворительная организация \"Общество защиты прав потребителей и ...   \n",
       "\n",
       "          ИНН Год регистрации  \\\n",
       "0  5032173157      2007-07-12   \n",
       "\n",
       "                                                    Адресс  \\\n",
       "0  г Москва, Орехово-Борисово Южное р-н, МКАД 23-й км, д 6   \n",
       "\n",
       "   Возможность пожертвовать деньги на сайте  \\\n",
       "0                                         0   \n",
       "\n",
       "   Возможность обратиться за помощью  \\\n",
       "0                                  0   \n",
       "\n",
       "                               Ссылка на сайт  \\\n",
       "0  http://greenstartup.ru/, http:/9911850.ru/   \n",
       "\n",
       "                  Ссылка на соц сеть Вид деятельности 1         ...          \\\n",
       "0  https://princip1.livejournal.com/                3_2         ...           \n",
       "\n",
       "  Вид деятельности 3 Вид деятельности 4 Вид деятельности 5 Вид деятельности 6  \\\n",
       "0                NaN                NaN                NaN                NaN   \n",
       "\n",
       "  Вид деятельности 7 Вид деятельности 8 Вид деятельности 9  \\\n",
       "0                NaN                NaN                NaN   \n",
       "\n",
       "  Вид деятельности 10 Вид деятельности 11 Вид деятельности 12  \n",
       "0                 NaN                 NaN                 NaN  \n",
       "\n",
       "[1 rows x 21 columns]"
      ]
     },
     "execution_count": 154,
     "metadata": {},
     "output_type": "execute_result"
    }
   ],
   "source": [
    "dataset = pd.read_excel(\"np_ngo_classification.xlsx\")\n",
    "dataset.head(1)"
   ]
  },
  {
   "cell_type": "code",
   "execution_count": 155,
   "metadata": {},
   "outputs": [
    {
     "name": "stderr",
     "output_type": "stream",
     "text": [
      "/home/tonko22/.virtualenvs/semantic_env_36/lib/python3.6/site-packages/ipykernel_launcher.py:3: SettingWithCopyWarning: \n",
      "A value is trying to be set on a copy of a slice from a DataFrame\n",
      "\n",
      "See the caveats in the documentation: http://pandas.pydata.org/pandas-docs/stable/indexing.html#indexing-view-versus-copy\n",
      "  This is separate from the ipykernel package so we can avoid doing imports until\n",
      "/home/tonko22/.virtualenvs/semantic_env_36/lib/python3.6/site-packages/ipykernel_launcher.py:7: SettingWithCopyWarning: \n",
      "A value is trying to be set on a copy of a slice from a DataFrame.\n",
      "Try using .loc[row_indexer,col_indexer] = value instead\n",
      "\n",
      "See the caveats in the documentation: http://pandas.pydata.org/pandas-docs/stable/indexing.html#indexing-view-versus-copy\n",
      "  import sys\n",
      "/home/tonko22/.virtualenvs/semantic_env_36/lib/python3.6/site-packages/ipykernel_launcher.py:8: SettingWithCopyWarning: \n",
      "A value is trying to be set on a copy of a slice from a DataFrame\n",
      "\n",
      "See the caveats in the documentation: http://pandas.pydata.org/pandas-docs/stable/indexing.html#indexing-view-versus-copy\n",
      "  \n"
     ]
    }
   ],
   "source": [
    "# Drop empty rows\n",
    "sites = dataset[~dataset[\"Ссылка на сайт\"].isnull()]\n",
    "sites.drop(columns=[\"Ссылка на соц сеть\"], inplace=True)\n",
    "social = dataset[~dataset[\"Ссылка на соц сеть\"].isnull()]\n",
    "\n",
    "# Merging social web-page to a web-site, adding new data samples \n",
    "social[\"Ссылка на сайт\"] = social[\"Ссылка на соц сеть\"]\n",
    "social.drop(columns=[\"Ссылка на соц сеть\"], inplace=True)\n",
    "concat_dataset = pd.concat([sites, social], ignore_index=True)"
   ]
  },
  {
   "cell_type": "code",
   "execution_count": 156,
   "metadata": {},
   "outputs": [],
   "source": [
    "concat_dataset[\"Ссылка на сайт\"] = concat_dataset[\"Ссылка на сайт\"].apply(parser.link_splitter)\n",
    "dataset.dropna(axis=0, subset=[\"Ссылка на сайт\"], inplace=True)\n",
    "concat_dataset[\"num_sites\"] = concat_dataset[\"Ссылка на сайт\"].apply(len)"
   ]
  },
  {
   "cell_type": "code",
   "execution_count": 159,
   "metadata": {},
   "outputs": [
    {
     "name": "stderr",
     "output_type": "stream",
     "text": [
      "/home/tonko22/.virtualenvs/semantic_env_36/lib/python3.6/site-packages/pandas/core/indexing.py:194: SettingWithCopyWarning: \n",
      "A value is trying to be set on a copy of a slice from a DataFrame\n",
      "\n",
      "See the caveats in the documentation: http://pandas.pydata.org/pandas-docs/stable/indexing.html#indexing-view-versus-copy\n",
      "  self._setitem_with_indexer(indexer, value)\n"
     ]
    }
   ],
   "source": [
    "# ! WARNING: This cell needs to be executed 3 times!\n",
    "# TODO: 3 times-loop\n",
    "max_len = len(concat_dataset)\n",
    "for index, row in concat_dataset.iterrows():\n",
    "    if len(row[\"Ссылка на сайт\"])>1:\n",
    "        sites = row[\"Ссылка на сайт\"]\n",
    "        last_site = sites.pop(-1)\n",
    "        concat_dataset[\"Ссылка на сайт\"].loc[index] = sites\n",
    "        row[\"Ссылка на сайт\"] = [last_site]\n",
    "        concat_dataset.loc[max_len] = row\n",
    "        max_len += 1"
   ]
  },
  {
   "cell_type": "code",
   "execution_count": 161,
   "metadata": {},
   "outputs": [],
   "source": [
    "concat_dataset[\"Ссылка на сайт\"] = concat_dataset[\"Ссылка на сайт\"].apply(lambda lst: lst[0].strip())"
   ]
  },
  {
   "cell_type": "code",
   "execution_count": 163,
   "metadata": {},
   "outputs": [
    {
     "name": "stderr",
     "output_type": "stream",
     "text": [
      "/home/tonko22/.virtualenvs/semantic_env_36/lib/python3.6/site-packages/pandas/core/indexing.py:194: SettingWithCopyWarning: \n",
      "A value is trying to be set on a copy of a slice from a DataFrame\n",
      "\n",
      "See the caveats in the documentation: http://pandas.pydata.org/pandas-docs/stable/indexing.html#indexing-view-versus-copy\n",
      "  self._setitem_with_indexer(indexer, value)\n"
     ]
    }
   ],
   "source": [
    "# Fixing mistakes\n",
    "concat_dataset[\"Ссылка на сайт\"].loc[62] = \"http://арктика-надежда.рф\" \n",
    "concat_dataset[\"Ссылка на сайт\"].loc[154] = \"http://9911850.ru/\""
   ]
  },
  {
   "cell_type": "code",
   "execution_count": 165,
   "metadata": {},
   "outputs": [
    {
     "name": "stderr",
     "output_type": "stream",
     "text": [
      "/home/tonko22/PycharmProjects/npo_classification/parser.py:45: UserWarning: No parser was explicitly specified, so I'm using the best available HTML parser for this system (\"html5lib\"). This usually isn't a problem, but if you run this code on another system, or in a different virtual environment, it may use a different parser and behave differently.\n",
      "\n",
      "The code that caused this warning is on line 45 of the file /home/tonko22/PycharmProjects/npo_classification/parser.py. To get rid of this warning, pass the additional argument 'features=\"html5lib\"' to the BeautifulSoup constructor.\n",
      "\n",
      "  soup = BeautifulSoup(html)\n",
      "/home/tonko22/PycharmProjects/npo_classification/parser.py:59: UserWarning: No parser was explicitly specified, so I'm using the best available HTML parser for this system (\"html5lib\"). This usually isn't a problem, but if you run this code on another system, or in a different virtual environment, it may use a different parser and behave differently.\n",
      "\n",
      "The code that caused this warning is on line 59 of the file /home/tonko22/PycharmProjects/npo_classification/parser.py. To get rid of this warning, pass the additional argument 'features=\"html5lib\"' to the BeautifulSoup constructor.\n",
      "\n",
      "  soup = BeautifulSoup(html)\n"
     ]
    }
   ],
   "source": [
    "concat_dataset[\"web_text\"] = concat_dataset[\"Ссылка на сайт\"].apply(parser.get_text_contents)"
   ]
  },
  {
   "cell_type": "code",
   "execution_count": 171,
   "metadata": {},
   "outputs": [],
   "source": [
    "concat_dataset = concat_dataset.dropna(subset=[\"web_text\"])\n",
    "concat_dataset = concat_dataset[concat_dataset['web_text'].astype(str) != '[]']\n",
    "concat_dataset = concat_dataset.reset_index().drop(\"index\", axis=1)"
   ]
  },
  {
   "cell_type": "code",
   "execution_count": 174,
   "metadata": {},
   "outputs": [],
   "source": [
    "concat_dataset[\"web_text\"] = concat_dataset[\"web_text\"].apply(lambda x: \" \".join(x))"
   ]
  },
  {
   "cell_type": "code",
   "execution_count": 175,
   "metadata": {},
   "outputs": [
    {
     "data": {
      "text/plain": [
       "0      function set_cookie(){var now = new Date();var time = now.getTime();time += 19360000 * 1000;now....\n",
       "1      html PUBLIC \"-//W3C//DTD XHTML 1.0 Transitional//EN\" \"http://www.w3.org/TR/xhtml1/DTD/xhtml1-tra...\n",
       "2      html Благотворительный фонд Столица милосердия [if IE 6]>\\n<link rel='stylesheet' type='text/css...\n",
       "3      html PUBLIC \"-//W3C//DTD XHTML 1.0 Strict//EN\" \"http://www.w3.org/TR/xhtml1/DTD/xhtml1-strict.dt...\n",
       "4      html PUBLIC \"-//W3C//DTD HTML 4.01 Transitional//EN\" \"http://www.w3.org/TR/html4/loose.dtd\" Благ...\n",
       "5      html Контактная информация и реквизиты | Фонд Спивакова [if lt IE 9]>\\n<script src=\"http://spiva...\n",
       "6      html Главная | Я есть <script src=\"http://ajax.googleapis.com/ajax/libs/jquery/1.12.1/jquery.min...\n",
       "7      html Фонд «Ковчег» | Поможем вместе window._wpemojiSettings = {\"baseUrl\":\"http:\\/\\/s.w.org\\/imag...\n",
       "8      html PUBLIC \"-//W3C//DTD XHTML 1.1//EN\" \"http://www.w3.org/TR/xhtml11/DTD/xhtml11.dtd\" Áëàãîòâîð...\n",
       "9      html if(!window.BX)window.BX={};if(!window.BX.message)window.BX.message=function(mess){if(typeof...\n",
       "10     html Фонд \"Кузнецкий Мост\" - Главная window.addEvent('load', function() {\\n\\t\\t\\t\\tnew JCaption(...\n",
       "11     html НО \"ФОНД МИХАИЛА РУДЯКА\" Assets window.dataLayer = window.dataLayer || []; Google Tag Manag...\n",
       "12     html [if lt IE 9]>\\n    <script src=\"http://html5shim.googlecode.com/svn/trunk/html5.js\"></scrip...\n",
       "13     html Парк Героев | Проект «Парк Героев» фонда «Перекличка поколений» This site is optimized with...\n",
       "14     html [if lt IE 7 ]><html class=\"ie ie6\" lang=\"ru-RU\"> <![endif] [if IE 7 ]><html class=\"ie ie7\" ...\n",
       "15     html PUBLIC \"-//W3C//DTD XHTML 1.0 Transitional//EN\" \"http://www.w3.org/TR/xhtml1/DTD/xhtml1-tra...\n",
       "16     html Витязь - Международный благотворительный фонд \"Витязь\" GOOGLE_MAPS_API_KEY = \"AIzaSyDYmNA_y...\n",
       "17     html [if IE 8 ]><html class=\"desktop ie8 no-js\" lang=\"ru-RU\"><![endif] [if IE 9 ]><html class=\"d...\n",
       "18     html // BEAT MESSAGE\\n          try {\\n            function uuidv4() {\\n              return 'xx...\n",
       "19     html Yandex.Metrika counter \\n<script type=\"text/javascript\" >\\n    (function (d, w, c) {\\n     ...\n",
       "20     html PUBLIC \"-//W3C//DTD XHTML 1.0 Strict//EN\" \"http://www.w3.org/TR/xhtml1/DTD/xhtml1-strict.dt...\n",
       "21     html Благотворительный фонд \"Счастливые истории\" @import url(\"https://happy-story.ru/modules/sys...\n",
       "22     html PUBLIC \"-//W3C//DTD XHTML 1.0 Transitional//EN\" \"http://www.w3.org/TR/xhtml1/DTD/xhtml1-tra...\n",
       "23     html Главная - Благотворительный Фонд \"Радость Детства\" :root {\\n                    --knd-color...\n",
       "24     html PUBLIC \"-//W3C//DTD XHTML 1.0 Strict//EN\" \"http://www.w3.org/TR/xhtml1/DTD/xhtml1-strict.dt...\n",
       "25     html PUBLIC \"-//W3C//DTD HTML 4.01 Transitional//EN\" \"http://www.w3.org/TR/html4/loose.dtd\" Áëàã...\n",
       "26     html Благотворительный фонд «ШАГ» - Благотворительный фонд «ШАГ» a.thumbnail {display: inline-bl...\n",
       "27     html [if IE 7]>\\n<html class=\"ie ie7\" lang=\"ru-RU\">\\n<![endif] [if IE 8]>\\n<html class=\"ie ie8\" ...\n",
       "28     html Благотворительный фонд имени Абу Ханифы - Главная jQuery(window).on('load',  function() {\\n...\n",
       "29     html PUBLIC \"-//W3C//DTD XHTML 1.0 Transitional//EN\" \"http://www.w3.org/TR/xhtml1/DTD/xhtml1-tra...\n",
       "30     html PUBLIC \"-//W3C//DTD XHTML 1.0 Transitional//EN\" \"http://www.w3.org/TR/xhtml1/DTD/xhtml1-tra...\n",
       "31     ﻿ Центр Устойчивого Развития Сельских Территорий Омской области jQuery(window).on('load',  funct...\n",
       "32     html meta Главная     - Благотворительный фонд \"Источник Надежды\" О нас Направления Проекты УЛЫБ...\n",
       "33     html (window.BX||top.BX).message({'LANGUAGE_ID':'ru','FORMAT_DATE':'DD.MM.YYYY','FORMAT_DATETIME...\n",
       "34     html Благотворительный фонд [if lt IE 9]>\\n        <script src=\"//html5shiv.googlecode.com/svn/t...\n",
       "35     html Благотворительный фонд «Родная» This site is optimized with the Yoast SEO plugin v3.1 - htt...\n",
       "36     html Благотворительный фонд \"Рабочий город\" | Новости Первомайского района Ижевска, поддержка ин...\n",
       "37     html Центр реабилитации Единство - реабилитация и лечение #rs-demo-id {} @media (min-width: 992p...\n",
       "38     html \"Восток\" общественная организация поддержки приёмных семей [if lt IE 9]>\\n        <script s...\n",
       "39     html [if lt IE 7]><html class=\"no-js lt-ie9 lt-ie8 lt-ie7 ie6\" lang=\"\"> <![endif] [if IE 7]><htm...\n",
       "40     html (function(i,s,o,g,r,a,m){i['GoogleAnalyticsObject']=r;i[r]=i[r]||function(){\\n  (i[r].q=i[r...\n",
       "41     html Благотворительный фонд «Счастье детям» О фонде Новости Карта кубов Команда фонда Адрес и ре...\n",
       "42     html meta name=\"viewport\" content=\"width=device-width, initial-scale=1.0\" Точка Опоры Липецк jQu...\n",
       "43     html [if IE 6]>\\n<html id=\"ie6\" lang=\"ru-RU\" prefix=\"og: http://ogp.me/ns#\">\\n<![endif] [if IE 7...\n",
       "44     html PUBLIC \"-//W3C//DTD XHTML 1.0 Transitional//EN\" \"http://www.w3.org/TR/xhtml1/DTD/xhtml1-tra...\n",
       "45     html [if IE]><![endif] Благотворительный фонд БОЛЬШИЕ ДЕЛА | [if lte IE 9]>\\n<script type=\"text/...\n",
       "46     html Благотворительный фонд \"Преобразование\" в Самаре - Помощь сиротам, инвалидам [if IE 6]>\\n<l...\n",
       "47     html Главная О фонде Новости Фото Видео Контакты Задать вопрос Записаться на семинар Отправить с...\n",
       "48     html [if lt IE 7]>      <html prefix=\"og: http://ogp.me/ns#\" class=\"no-js lt-ie9 lt-ie8 lt-ie7\" ...\n",
       "49     html PUBLIC \"-//W3C//DTD HTML 4.01 Transitional//EN\" Благотворительный фонд \"Мы Вместе\" Ярославл...\n",
       "50     html var ucoz_rndid = '';\\n\\t\\tfunction uLiruCounter(counter){\\n\\t\\t\\tnew Image().src = \"//count...\n",
       "51     html PUBLIC \"-//W3C//DTD XHTML 1.0 Transitional//EN\" \"http://www.w3.org/TR/xhtml1/DTD/xhtml1-tra...\n",
       "52     html Благотворительная организация АРОБО «ТРИЕДИНСТВО» [if lt IE 9]>\\n         <script src=\"http...\n",
       "53     html window.WIZ_global_data = {\"DpimGf\":false,\"EP1ykd\":[\"/_/*\",\"/website/_/*\",\"/website/demo\",\"/...\n",
       "54     html PUBLIC \"-//W3C//DTD XHTML 1.0 Transitional//EN\" \"http://www.w3.org/TR/xhtml1/DTD/xhtml1-tra...\n",
       "55     html (function(html){html.className = html.className.replace(/\\bno-js\\b/,'js')})(document.docume...\n",
       "56     html Седьмой лепесток - Благотворительный фонд [if IE 6]><link rel=\"stylesheet\" href=\"http://7le...\n",
       "57     function set_cookie(){var now = new Date();var time = now.getTime();time += 19360000 * 1000;now....\n",
       "58     html PUBLIC \"-//W3C//DTD XHTML 1.0 Strict//EN\" \"http://www.w3.org/TR/xhtml1/DTD/xhtml1-strict.dt...\n",
       "59     html HTML 5 Им нужна срочная помощь if(!window.BX)window.BX={message:function(mess){if(typeof me...\n",
       "60     html Город милосердия - благотворительный фонд, г Каменск-Уральский Благотворительный фонд \"Горо...\n",
       "61     function set_cookie(){var now = new Date();var time = now.getTime();time += 19360000 * 1000;now....\n",
       "62     html - desktop .component-header h1.widget-header { display: block; font-size: 36px; margin-top:...\n",
       "63     ï»¿ Design by Free CSS Templates\\nhttp://www.freecsstemplates.org\\nReleased for free under a Cre...\n",
       "64     [if lte IE 9]><!DOCTYPE HTML PUBLIC \"-//W3C//DTD HTML 4.01 Transitional//EN\" \"https://www.w3.org...\n",
       "65     THEME DEBUG CALL: theme('page') BEGIN OUTPUT from 'themes/bootstrap_lite/templates/page.tpl.php'...\n",
       "66     html PUBLIC \"-//W3C//DTD XHTML 1.0 Transitional//EN\" \"http://www.w3.org/TR/xhtml1/DTD/xhtml1-tra...\n",
       "67     html PUBLIC \"-//W3C//DTD XHTML+RDFa 1.0//EN\" \"http://www.w3.org/MarkUp/DTD/xhtml-rdfa-1.dtd\" Бла...\n",
       "68     html Enable responsive <![if gte IE 9]> <link href='http://fonts.googleapis.com/css?family=Open+...\n",
       "69     html // BEAT MESSAGE\\n          try {\\n            function uuidv4() {\\n              return 'xx...\n",
       "70     html Благотворительный фонд «Благодарность-2015» в Балашове Благодарность-2015 благотворительный...\n",
       "71     html BEGIN head НО \"Благотворительный фонд содействия культуре им. С.И. Мамонтова\"  - ЯЛУТОРОВСК...\n",
       "72     html БОО «Дорога жизни» [if lt IE 9]> <script src=\"http://html5shiv.googlecode.com/svn/trunk/htm...\n",
       "73     html var ucoz_rndid = '';\\n\\t\\tfunction uLiruCounter(counter){\\n\\t\\t\\tnew Image().src = \"//count...\n",
       "74     html О центре - Иппоцентр Поводья Жизни. Крым, Алушта. div.mod_search80 input[type=\"search\"]{ wi...\n",
       "75     html Фонд Нужна помощь Facebook Pixel Code !function(f,b,e,v,n,t,s){if(f.fbq)return;n=f.fbq=func...\n",
       "76     html PUBLIC \"-//W3C//DTD XHTML 1.0 Transitional//EN\" \"http://www.w3.org/TR/xhtml1/DTD/xhtml1-tra...\n",
       "77     html window._cstart=+new Date(); function envFlush(a){function b(b){for(var c in a)b[c]=a[c]}win...\n",
       "78     html window._cstart=+new Date(); function envFlush(a){function b(b){for(var c in a)b[c]=a[c]}win...\n",
       "79     html PUBLIC \"-//W3C//DTD XHTML 1.0 Strict//EN\" \"http://www.w3.org/TR/xhtml1/DTD/xhtml1-strict.dt...\n",
       "80     html PUBLIC \"-//W3C//DTD XHTML 1.0 Strict//EN\" \"http://www.w3.org/TR/xhtml1/DTD/xhtml1-strict.dt...\n",
       "81     html window._cstart=+new Date(); function envFlush(a){function b(b){for(var c in a)b[c]=a[c]}win...\n",
       "82     html window._cstart=+new Date(); function envFlush(a){function b(b){for(var c in a)b[c]=a[c]}win...\n",
       "83     html PUBLIC \"-//W3C//DTD XHTML 1.0 Strict//EN\" \"http://www.w3.org/TR/xhtml1/DTD/xhtml1-strict.dt...\n",
       "84     html PUBLIC \"-//W3C//DTD XHTML 1.0 Strict//EN\" \"http://www.w3.org/TR/xhtml1/DTD/xhtml1-strict.dt...\n",
       "85     html PUBLIC \"-//W3C//DTD XHTML 1.0 Strict//EN\" \"http://www.w3.org/TR/xhtml1/DTD/xhtml1-strict.dt...\n",
       "86     html PUBLIC \"-//W3C//DTD XHTML 1.0 Strict//EN\" \"http://www.w3.org/TR/xhtml1/DTD/xhtml1-strict.dt...\n",
       "87     html PUBLIC \"-//W3C//DTD XHTML 1.0 Strict//EN\" \"http://www.w3.org/TR/xhtml1/DTD/xhtml1-strict.dt...\n",
       "88     html PUBLIC \"-//W3C//DTD XHTML 1.0 Strict//EN\" \"http://www.w3.org/TR/xhtml1/DTD/xhtml1-strict.dt...\n",
       "89     html PUBLIC \"-//W3C//DTD XHTML 1.0 Strict//EN\" \"http://www.w3.org/TR/xhtml1/DTD/xhtml1-strict.dt...\n",
       "90     html PUBLIC \"-//W3C//DTD XHTML 1.0 Strict//EN\" \"http://www.w3.org/TR/xhtml1/DTD/xhtml1-strict.dt...\n",
       "91     html window._cstart=+new Date(); function envFlush(a){function b(b){for(var c in a)b[c]=a[c]}win...\n",
       "92     html PUBLIC \"-//W3C//DTD XHTML 1.0 Strict//EN\" \"http://www.w3.org/TR/xhtml1/DTD/xhtml1-strict.dt...\n",
       "93     html PUBLIC \"-//W3C//DTD XHTML 1.0 Strict//EN\" \"http://www.w3.org/TR/xhtml1/DTD/xhtml1-strict.dt...\n",
       "94     html PUBLIC \"-//W3C//DTD XHTML 1.0 Strict//EN\" \"http://www.w3.org/TR/xhtml1/DTD/xhtml1-strict.dt...\n",
       "95     html PUBLIC \"-//W3C//DTD XHTML 1.0 Strict//EN\" \"http://www.w3.org/TR/xhtml1/DTD/xhtml1-strict.dt...\n",
       "96     html window._cstart=+new Date(); function envFlush(a){function b(b){for(var c in a)b[c]=a[c]}win...\n",
       "97     html PUBLIC \"-//W3C//DTD XHTML 1.0 Strict//EN\" \"http://www.w3.org/TR/xhtml1/DTD/xhtml1-strict.dt...\n",
       "98     html PUBLIC \"-//W3C//DTD XHTML 1.0 Strict//EN\" \"http://www.w3.org/TR/xhtml1/DTD/xhtml1-strict.dt...\n",
       "99     html PUBLIC \"-//W3C//DTD XHTML 1.0 Strict//EN\" \"http://www.w3.org/TR/xhtml1/DTD/xhtml1-strict.dt...\n",
       "100    html PUBLIC \"-//W3C//DTD XHTML 1.0 Strict//EN\" \"http://www.w3.org/TR/xhtml1/DTD/xhtml1-strict.dt...\n",
       "101    html PUBLIC \"-//W3C//DTD XHTML 1.0 Strict//EN\" \"http://www.w3.org/TR/xhtml1/DTD/xhtml1-strict.dt...\n",
       "102    html PUBLIC \"-//W3C//DTD XHTML 1.0 Strict//EN\" \"http://www.w3.org/TR/xhtml1/DTD/xhtml1-strict.dt...\n",
       "103    html PUBLIC \"-//W3C//DTD XHTML 1.0 Strict//EN\" \"http://www.w3.org/TR/xhtml1/DTD/xhtml1-strict.dt...\n",
       "104    html PUBLIC \"-//W3C//DTD XHTML 1.0 Strict//EN\" \"http://www.w3.org/TR/xhtml1/DTD/xhtml1-strict.dt...\n",
       "105    html PUBLIC \"-//W3C//DTD XHTML 1.0 Strict//EN\" \"http://www.w3.org/TR/xhtml1/DTD/xhtml1-strict.dt...\n",
       "106    html PUBLIC \"-//W3C//DTD XHTML 1.0 Strict//EN\" \"http://www.w3.org/TR/xhtml1/DTD/xhtml1-strict.dt...\n",
       "107    html PUBLIC \"-//W3C//DTD XHTML 1.0 Strict//EN\" \"http://www.w3.org/TR/xhtml1/DTD/xhtml1-strict.dt...\n",
       "108    html window._cstart=+new Date(); function envFlush(a){function b(b){for(var c in a)b[c]=a[c]}win...\n",
       "109    html PUBLIC \"-//W3C//DTD XHTML 1.0 Strict//EN\" \"http://www.w3.org/TR/xhtml1/DTD/xhtml1-strict.dt...\n",
       "110    html PUBLIC \"-//W3C//DTD XHTML 1.0 Strict//EN\" \"http://www.w3.org/TR/xhtml1/DTD/xhtml1-strict.dt...\n",
       "111    html PUBLIC \"-//W3C//DTD XHTML 1.0 Strict//EN\" \"http://www.w3.org/TR/xhtml1/DTD/xhtml1-strict.dt...\n",
       "112    html PUBLIC \"-//W3C//DTD XHTML 1.0 Strict//EN\" \"http://www.w3.org/TR/xhtml1/DTD/xhtml1-strict.dt...\n",
       "113    html PUBLIC \"-//W3C//DTD XHTML 1.0 Strict//EN\" \"http://www.w3.org/TR/xhtml1/DTD/xhtml1-strict.dt...\n",
       "114    html PUBLIC \"-//W3C//DTD XHTML 1.0 Strict//EN\" \"http://www.w3.org/TR/xhtml1/DTD/xhtml1-strict.dt...\n",
       "115    html PUBLIC \"-//W3C//DTD XHTML 1.0 Strict//EN\" \"http://www.w3.org/TR/xhtml1/DTD/xhtml1-strict.dt...\n",
       "116    html PUBLIC \"-//W3C//DTD XHTML 1.0 Strict//EN\" \"http://www.w3.org/TR/xhtml1/DTD/xhtml1-strict.dt...\n",
       "117    html PUBLIC \"-//W3C//DTD XHTML 1.0 Transitional//EN\" \"http://www.w3.org/TR/xhtml1/DTD/xhtml1-tra...\n",
       "118    html PUBLIC \"-//W3C//DTD XHTML 1.0 Strict//EN\" \"http://www.w3.org/TR/xhtml1/DTD/xhtml1-strict.dt...\n",
       "119    html window._cstart=+new Date(); function envFlush(a){function b(b){for(var c in a)b[c]=a[c]}win...\n",
       "120    html PUBLIC \"-//W3C//DTD XHTML 1.0 Strict//EN\" \"http://www.w3.org/TR/xhtml1/DTD/xhtml1-strict.dt...\n",
       "121    html PUBLIC \"-//W3C//DTD XHTML 1.0 Strict//EN\" \"http://www.w3.org/TR/xhtml1/DTD/xhtml1-strict.dt...\n",
       "122    html PUBLIC \"-//W3C//DTD XHTML 1.0 Strict//EN\" \"http://www.w3.org/TR/xhtml1/DTD/xhtml1-strict.dt...\n",
       "123    html PUBLIC \"-//W3C//DTD XHTML 1.0 Strict//EN\" \"http://www.w3.org/TR/xhtml1/DTD/xhtml1-strict.dt...\n",
       "124    html PUBLIC \"-//W3C//DTD XHTML 1.0 Strict//EN\" \"http://www.w3.org/TR/xhtml1/DTD/xhtml1-strict.dt...\n",
       "125    html PUBLIC \"-//W3C//DTD XHTML 1.0 Strict//EN\" \"http://www.w3.org/TR/xhtml1/DTD/xhtml1-strict.dt...\n",
       "126    html PUBLIC \"-//W3C//DTD XHTML 1.0 Strict//EN\" \"http://www.w3.org/TR/xhtml1/DTD/xhtml1-strict.dt...\n",
       "127    html window._cstart=+new Date(); function envFlush(a){function b(b){for(var c in a)b[c]=a[c]}win...\n",
       "128    html PUBLIC \"-//W3C//DTD XHTML 1.0 Strict//EN\" \"http://www.w3.org/TR/xhtml1/DTD/xhtml1-strict.dt...\n",
       "129    html PUBLIC \"-//W3C//DTD XHTML 1.0 Strict//EN\" \"http://www.w3.org/TR/xhtml1/DTD/xhtml1-strict.dt...\n",
       "130    html PUBLIC \"-//W3C//DTD XHTML 1.0 Strict//EN\" \"http://www.w3.org/TR/xhtml1/DTD/xhtml1-strict.dt...\n",
       "131    html PUBLIC \"-//W3C//DTD XHTML 1.0 Strict//EN\" \"http://www.w3.org/TR/xhtml1/DTD/xhtml1-strict.dt...\n",
       "132    html PUBLIC \"-//W3C//DTD XHTML 1.0 Strict//EN\" \"http://www.w3.org/TR/xhtml1/DTD/xhtml1-strict.dt...\n",
       "133    html PUBLIC \"-//W3C//DTD XHTML 1.0 Strict//EN\" \"http://www.w3.org/TR/xhtml1/DTD/xhtml1-strict.dt...\n",
       "134    html META START Амурск!!! Приют \"Дай лапу друг\" | OK.RU META END try { top.location.toString(); ...\n",
       "135    html window._cstart=+new Date(); function envFlush(a){function b(b){for(var c in a)b[c]=a[c]}win...\n",
       "136    html PUBLIC \"-//W3C//DTD XHTML 1.0 Strict//EN\" \"http://www.w3.org/TR/xhtml1/DTD/xhtml1-strict.dt...\n",
       "137    html META START Бумеранг добра 42 | OK.RU META END try { top.location.toString(); if (top != sel...\n",
       "138    html PUBLIC \"-//W3C//DTD XHTML 1.0 Strict//EN\" \"http://www.w3.org/TR/xhtml1/DTD/xhtml1-strict.dt...\n",
       "139    html PUBLIC \"-//W3C//DTD XHTML 1.0 Strict//EN\" \"http://www.w3.org/TR/xhtml1/DTD/xhtml1-strict.dt...\n",
       "140    html PUBLIC \"-//W3C//DTD XHTML 1.0 Strict//EN\" \"http://www.w3.org/TR/xhtml1/DTD/xhtml1-strict.dt...\n",
       "141    html PUBLIC \"-//W3C//DTD XHTML 1.0 Strict//EN\" \"http://www.w3.org/TR/xhtml1/DTD/xhtml1-strict.dt...\n",
       "142    html PUBLIC \"-//W3C//DTD XHTML 1.0 Strict//EN\" \"http://www.w3.org/TR/xhtml1/DTD/xhtml1-strict.dt...\n",
       "143    html META START Фонд \"Сила в Добре\" в Чертковском районе | OK.RU META END try { top.location.toS...\n",
       "144    html PUBLIC \"-//W3C//DTD XHTML 1.0 Strict//EN\" \"http://www.w3.org/TR/xhtml1/DTD/xhtml1-strict.dt...\n",
       "145    html PUBLIC \"-//W3C//DTD XHTML 1.0 Strict//EN\" \"http://www.w3.org/TR/xhtml1/DTD/xhtml1-strict.dt...\n",
       "146    html PUBLIC \"-//W3C//DTD XHTML 1.0 Strict//EN\" \"http://www.w3.org/TR/xhtml1/DTD/xhtml1-strict.dt...\n",
       "147    html PUBLIC \"-//W3C//DTD XHTML 1.0 Strict//EN\" \"http://www.w3.org/TR/xhtml1/DTD/xhtml1-strict.dt...\n",
       "148    html window._cstart=+new Date(); function envFlush(a){function b(b){for(var c in a)b[c]=a[c]}win...\n",
       "149    html Главная страница jQuery(window).on('load',  function() {\\n\\t\\t\\t\\tnew JCaption('img.caption...\n",
       "150    9e6eda3a html PUBLIC \"-//W3C//DTD XHTML 1.0 Transitional//EN\" \"http://www.w3.org/TR/xhtml1/DTD/x...\n",
       "151    html window._cstart=+new Date(); function envFlush(a){function b(b){for(var c in a)b[c]=a[c]}win...\n",
       "152    html window._cstart=+new Date(); function envFlush(a){function b(b){for(var c in a)b[c]=a[c]}win...\n",
       "153    html PUBLIC \"-//W3C//DTD XHTML 1.0 Strict//EN\" \"http://www.w3.org/TR/xhtml1/DTD/xhtml1-strict.dt...\n",
       "154    html PUBLIC \"-//W3C//DTD XHTML 1.0 Strict//EN\" \"http://www.w3.org/TR/xhtml1/DTD/xhtml1-strict.dt...\n",
       "155    html window._cstart=+new Date(); function envFlush(a){function b(b){for(var c in a)b[c]=a[c]}win...\n",
       "156    html META START Особый Петербург | OK.RU META END try { top.location.toString(); if (top != self...\n",
       "157    html window._cstart=+new Date(); function envFlush(a){function b(b){for(var c in a)b[c]=a[c]}win...\n",
       "158    html window._cstart=+new Date(); function envFlush(a){function b(b){for(var c in a)b[c]=a[c]}win...\n",
       "159    html PUBLIC \"-//W3C//DTD XHTML 1.0 Strict//EN\" \"http://www.w3.org/TR/xhtml1/DTD/xhtml1-strict.dt...\n",
       "160    html window._cstart=+new Date(); function envFlush(a){function b(b){for(var c in a)b[c]=a[c]}win...\n",
       "161    html META START Благотворительный фонд помощи животным \"ДОБРОЕ СЕРДЦЕ\" | OK.RU META END try { to...\n",
       "162    html META START ПОТЕРЯШКИ И НАЙДЕНЫШИ В ПЕРМИ. Приют \"КОТОПЕС\" | OK.RU META END try { top.locati...\n",
       "163    html window._cstart=+new Date(); function envFlush(a){function b(b){for(var c in a)b[c]=a[c]}win...\n",
       "164    html META START Благотворительный Фонд \"С миром и любовью\" | OK.RU META END try { top.location.t...\n",
       "165    html window._cstart=+new Date(); function envFlush(a){function b(b){for(var c in a)b[c]=a[c]}win...\n",
       "166    html window._cstart=+new Date(); function envFlush(a){function b(b){for(var c in a)b[c]=a[c]}win...\n",
       "167    html window._cstart=+new Date(); function envFlush(a){function b(b){for(var c in a)b[c]=a[c]}win...\n",
       "168    html META START Благотворительный фонд \"Счастье детям\" | OK.RU META END try { top.location.toStr...\n",
       "169    html window._cstart=+new Date(); function envFlush(a){function b(b){for(var c in a)b[c]=a[c]}win...\n",
       "170    html window._cstart=+new Date(); function envFlush(a){function b(b){for(var c in a)b[c]=a[c]}win...\n",
       "171    html META START Благотворительный фонд Сохраняя жизнь! | OK.RU META END try { top.location.toStr...\n",
       "172    html META START Благотворительный фонд \"Большие дела\" | OK.RU META END try { top.location.toStri...\n",
       "173    html META START Благотворительный Фонд \"Рука помощи\" | OK.RU META END try { top.location.toStrin...\n",
       "174    html META START ღღღАНГЕЛღღღ Благотворительный фонд META END try { top.location.toString(); if (t...\n",
       "175    html window._cstart=+new Date(); function envFlush(a){function b(b){for(var c in a)b[c]=a[c]}win...\n",
       "176    html window._cstart=+new Date(); function envFlush(a){function b(b){for(var c in a)b[c]=a[c]}win...\n",
       "177    html PUBLIC \"-//W3C//DTD XHTML 1.0 Strict//EN\" \"http://www.w3.org/TR/xhtml1/DTD/xhtml1-strict.dt...\n",
       "178    html META START Благотворительный фонд \"Арктика-надежда\" | OK.RU META END try { top.location.toS...\n",
       "179    html META START Благотворительный фонд \"Радуга\" | OK.RU META END try { top.location.toString(); ...\n",
       "180    html window._cstart=+new Date(); function envFlush(a){function b(b){for(var c in a)b[c]=a[c]}win...\n",
       "181    html PUBLIC \"-//W3C//DTD XHTML 1.0 Strict//EN\" \"http://www.w3.org/TR/xhtml1/DTD/xhtml1-strict.dt...\n",
       "182    html Одноклассники .hookData { display: none; position: absolute; left: -9999px; } var okCssStar...\n",
       "183    html window._cstart=+new Date(); function envFlush(a){function b(b){for(var c in a)b[c]=a[c]}win...\n",
       "184    html META START Благотворительный фонд \"Кунгур-территория добра\" | OK.RU META END try { top.loca...\n",
       "185    html META START иппоцентр \"поводья жизни\" | OK.RU META END try { top.location.toString(); if (to...\n",
       "186    html window._cstart=+new Date(); function envFlush(a){function b(b){for(var c in a)b[c]=a[c]}win...\n",
       "187    html META START БФ \"Мамины руки\" | OK.RU META END try { top.location.toString(); if (top != self...\n",
       "188    html window._cstart=+new Date(); function envFlush(a){function b(b){for(var c in a)b[c]=a[c]}win...\n",
       "189    html PUBLIC \"-//W3C//DTD XHTML 1.0 Strict//EN\" \"http://www.w3.org/TR/xhtml1/DTD/xhtml1-strict.dt...\n",
       "190    html window._cstart=+new Date(); function envFlush(a){function b(b){for(var c in a)b[c]=a[c]}win...\n",
       "191    html PUBLIC \"-//W3C//DTD XHTML 1.0 Strict//EN\" \"http://www.w3.org/TR/xhtml1/DTD/xhtml1-strict.dt...\n",
       "192    html META START Антираковый Фонд \"Пока беда не коснулась всех\" | OK.RU META END try { top.locati...\n",
       "193    html window._cstart=+new Date(); function envFlush(a){function b(b){for(var c in a)b[c]=a[c]}win...\n",
       "194    html window._cstart=+new Date(); function envFlush(a){function b(b){for(var c in a)b[c]=a[c]}win...\n",
       "195    html window._cstart=+new Date(); function envFlush(a){function b(b){for(var c in a)b[c]=a[c]}win...\n",
       "196    html PUBLIC \"-//W3C//DTD XHTML 1.0 Strict//EN\" \"http://www.w3.org/TR/xhtml1/DTD/xhtml1-strict.dt...\n",
       "Name: web_text, dtype: object"
      ]
     },
     "execution_count": 175,
     "metadata": {},
     "output_type": "execute_result"
    }
   ],
   "source": [
    "concat_dataset[\"web_text\"]"
   ]
  },
  {
   "cell_type": "code",
   "execution_count": 176,
   "metadata": {},
   "outputs": [],
   "source": [
    "concat_dataset.to_pickle(path=\"np_ngo_classification_links.pkl\")"
   ]
  },
  {
   "cell_type": "code",
   "execution_count": 177,
   "metadata": {},
   "outputs": [
    {
     "data": {
      "text/plain": [
       "'html PUBLIC \"-//W3C//DTD XHTML 1.0 Transitional//EN\" \"http://www.w3.org/TR/xhtml1/DTD/xhtml1-transitional.dtd\" if(!window.BX)window.BX={message:function(mess){if(typeof mess==\\'object\\') for(var i in mess) BX.message[i]=mess[i]; return true;}}; Ак барс созидание <!--\\nfunction MM_swapImgRestore() { //v3.0\\n  var i,x,a=document.MM_sr; for(i=0;a&&i<a.length&&(x=a[i])&&x.oSrc;i++) x.src=x.oSrc;\\n}\\n\\nfunction MM_preloadImages() { //v3.0\\n  var d=document; if(d.images){ if(!d.MM_p) d.MM_p=new Array();\\n    var i,j=d.MM_p.length,a=MM_preloadImages.arguments; for(i=0; i<a.length; i++)\\n    if (a[i].indexOf(\"#\")!=0){ d.MM_p[j]=new Image; d.MM_p[j++].src=a[i];}}\\n}\\n\\nfunction MM_findObj(n, d) { //v4.01\\n  var p,i,x;  if(!d) d=document; if((p=n.indexOf(\"?\"))>0&&parent.frames.length) {\\n    d=parent.frames[n.substring(p+1)].document; n=n.substring(0,p);}\\n  if(!(x=d[n])&&d.all) x=d.all[n]; for (i=0;!x&&i<d.forms.length;i++) x=d.forms[i][n];\\n  for(i=0;!x&&d.layers&&i<d.layers.length;i++) x=MM_findObj(n,d.layers[i].document);\\n  if(!x && d.getElementById) x=d.getElementById(n); return x;\\n}\\n\\nfunction MM_swapImage() { //v3.0\\n  var i,j=0,x,a=MM_swapImage.arguments; document.MM_sr=new Array; for(i=0;i<(a.length-2);i+=3)\\n   if ((x=MM_findObj(a[i]))!=null){document.MM_sr[j++]=x; if(!x.oSrc) x.oSrc=x.src; x.src=a[i+2];}\\n}\\n//--> <div style=\"position:absolute; top: 66px; left: 300px;\"><img src=\"/bitrix/templates/main/images/10let.png\" alt=\"10 лет. Вместе творим добро. Спасибо Вам, что остаетесь с нами!\" title=\"10 лет. Вместе творим добро. Спасибо Вам, что остаетесь с нами!\"  border=\"0\"/></div> Меню типа топ /Меню типа топ Слайдер на главной $(document).ready(function(){\\t\\n\\t   var auto = true;\\n\\t   var autostopped = false;\\n\\t   var sudoSlider = $(\"#slider\").sudoSlider({ \\n\\t\\t effect: \"slide\",\\n\\t\\t auto:true,\\n\\t\\t speed: 500,\\n\\t\\t pause: 5000,\\n\\t\\t prevNext:true,\\n\\t\\t numeric: true,\\n         continuous:true,\\n\\t\\t})\\n}); Друзья фонда Вот уже несколько лет длится сотрудничество АНО «Творческая школа «Мастер-класс» с\\xa0фондом «АК\\xa0БАРС СОЗИДАНИЕ», чему мы\\xa0очень рады. У\\xa0нас общие цели\\xa0— это поддержка талантливых детей. Мы\\xa0увидели, как профессионально, чутко, с\\xa0огромной любовью к\\xa0детям работают руководители и\\xa0сотрудники фонда «АК\\xa0БАРС СОЗИДАНИЕ», реализуя свои проекты. Нам очень приятно, что благодаря нашему сотрудничеству открылись новые формы работы с\\xa0детьми с\\xa0ограниченными возможностями здоровья, в\\xa0частности, прошедшая в\\xa0марте 2014\\xa0г. творческая школа для победителей конкурса «На\\xa0берегах Волги семьей единой живем». Надеемся, что наша совместная работа и\\xa0дальше будет приносить пользу и\\xa0радость детям! Генеральный директор АНО «Творческая школа «Мастер-класс» Александр Арутюнович Петросян Благо творить\\xa0— дело полезное. А\\xa0благо творить под нашим общим с\\xa0Вами брендом «АК\\xa0БАРС»\\xa0— ещё и\\xa0приятное. Наша дружба с\\xa0Благотворительным фондом «АК\\xa0БАРС СОЗИДАНИЕ»\\xa0— это сочетание полезного с\\xa0приятным. Генеральный директор ООО УК «АК БАРС КАПИТАЛ» Алексей Николаевич Дорогов С\\xa0Благотворительным фондом «АК\\xa0БАРС СОЗИДАНИЕ» нас связывает многолетняя дружба и\\xa0работа в\\xa0организации ежегодных выставочных проектов для воспитанников детских домов Приволжского федерального округа. Когда видишь радостные лица детей, принимающих в\\xa0них участие, их\\xa0увлеченность творчеством, стремление достичь высокого мастерства в\\xa0своих работах, вопрос нужны\\xa0ли благотворительные мероприятия или поддержка благотворительных фондов отпадает сам собой. Генеральный директор ООО «АК БАРС ГАЛЕРЕЯ» Ольга Инилевна Валеева Фонд поддержки научных и культурных программ им. Ш. Марджани (Фонд Марджани) - негосударственная общественная некоммерческая организация, ставящая своей задачей содействовать осуществлению оригинальных программ в области развития гуманитарных наук, культуры и искусства. Являясь активным участником многих научных и культурных проектов в России и странах СНГ, направленных на возрождение культурного наследия народов Евразии, Фонд Марджани осуществляет сотрудничество с научными и культурными учреждениями Российской Федерации и зарубежных стран, образовательными и исследовательскими центрами, общественными организациями. Совместная деятельность Фонда Марджани с Благотворительным фондом «АК БАРС СОЗИДАНИЕ» является примером того, что в наши дни старые российские традиции благотворительности, поддержки культуры, науки и искусства имеют достойное продолжение. Фонд Марджани Не секрет, что отечественный бизнес активно занимается благотворительностью, но зачастую просто не афиширует этого. Мы всегда занимались традиционной благотворительностью, в основе которой лежит эмоциональный подход. К нам обращались – мы помогали… В 2006 году у наших учредителей – ОАО «АК БАРС» БАНК – возникла идея трансформировать подход, который свойственен бизнесу в сфере благотворительности. В связи с этим было принято решение о создании благотворительного фонда «АК БАРС СОЗИДАНИЕ», главными принципами которого стали прозрачность, подотчетность, открытость. При этом с самого начала мы действовали в интересах людей в целом. Они должны быть здоровы и счастливы – и неважно, дети это или одинокие старики. ООО СК «АК БАРС-Мед» Наша земля всегда славилась людьми, готовыми оказать помощь и поддержку слабому, беззащитному и неимущему. Мы вместе с нашим населением совместными усилиями смогли помочь тысячам граждан, приняли активнейшее участие в широкомасштабных акциях милосердия, организованных в республике. Верным партнером в наших добрых делах стал Благотворительный фонд «АК БАРС СОЗИДАНИЕ». Являясь надежным аккумулирующим звеном всех благотворительных акций, проводимых республиканским советом по вопросам благотворительной деятельности, фонд проводит большую работу по реализации собственных социально-значимых проектов. Желаю успехов в дальнейшей деятельности Благотворительного фонда «АК БАРС СОЗИДАНИЕ». Депутат Государственного Совета Республики Татарстан Татьяна Петровна Ларионова Благотворительность для нашего коллектива и для меня лично – это не дань моде. Журналисты находятся в эпицентре человеческих трагедий, чаще других сталкиваются с трудными житейскими ситуациями. Наша задача – не просто информировать об этом общество, но и способствовать решению проблем. Если это удается, если с нашей помощью у кого-то происходит счастливая перемена в жизни – именно это, а не цифры рейтингов, наша главная задача. Надежда, радость и любовь – вот истинные богатства. Я уверен, что вместе с Благотворительным фондом «АК БАРС СОЗИДАНИЕ» мы сможем осуществить еще много добрых дел для больных и обездоленных детей, талантливых ребят и пожилых жителей республики, которым нужна наша поддержка. Генеральный директор\\xa0ОАО «Телерадиокомпания «Новый век» Ильшат Юнусович Аминов С первых дней своей деятельности Благотворительный фонд «АК БАРС СОЗИДАНИЕ» вносит существенный вклад в развитие социальных институтов в Татарстане. Ежегодно сотни детей-сирот, инвалидов, престарелых граждан и многодетных семей и десятки специализированных учреждений Татарстана получают комплексную социальную поддержку Фонда. Успешно выполненные задачи и проекты снискали Фонду общереспубликанский авторитет и признание как общественного объединения, которое сегодня является одним из лучших примеров организованной и эффективной благотворительности в Татарстане. Руководство ПАО «АК БАРС» БАНК Мы\\xa0давно сотрудничаем с\\xa0Благотворительным фондом «АК\\xa0БАРС СОЗИДАНИЕ». За\\xa0это время мы\\xa0установили с\\xa0ними тесные доверительные отношения. Нам важно, что фонд решает наиболее актуальные социальные задачи нашего общества, потому что это созвучно принципам и\\xa0миссии нашей компании. Управляющий партнер компании \"Аудэкс\" Айрат Фердинандович Гимадутдинов В\\xa0настоящее время создано много благотворительных фондов, деятельность которых вызывает сомнение. Хочется, чтобы оказанная помощь доходила до\\xa0адресата. Благотворительный фонд «АК\\xa0БАРС СОЗИДАНИЕ» создан в\\xa0соответствии с\\xa0законодательными документами\\xa0РФ, партнерами фонда являются организации, деятельность которых осуществляется ни\\xa0один год и\\xa0которые за\\xa0время своей деятельности зарекомендовали себя как надежные организации, пользующиеся доверием людей. Поэтому, я\\xa0считаю, что выбор именно этого благотворительного фонда себя оправдывает. Генеральный директор ОАО «Кукморский завод Металлопосуды» Азат Ясавиевич Загидуллин Выражаю искреннее уважение и\\xa0признательность Благотворительному фонду «АК\\xa0БАРС СОЗИДАНИЕ» и\\xa0лично директору Фонда Альфие Фуатовне Валиевой за\\xa0многолетнее эффективное сотрудничество с\\xa0ОАО «РИТЭК». Следуя лучшим лукойловским традициям, мы\\xa0считаем благотворительную деятельность неотъемлемой частью социально ответственного бизнеса. И\\xa0я\\xa0рад, что для реализации социально значимых проектов в\\xa0области здравоохранения, образования, культуры, спорта и\\xa0экологии в\\xa0Татарстане у\\xa0нас есть надежный партнер\\xa0— Благотворительный фонд «АК\\xa0БАРС СОЗИДАНИЕ». От\\xa0всей души желаю Фонду успехов в\\xa0реализации новых благотворительных проектов. Вице-президент ОАО «ЛУКОЙЛ», генеральный директор ОАО «РИТЭК» Николай Михайлович Николаев <div class=\"vmeste\">\\n  <h2><a id=\"bxid_879545\" href=\"/project/news_detail.php?ID=1966\" >Корпоративный проект &laquo;Мы - вместе!&raquo;</a></h2>\\n\\n  <table border=\"0\" cellspacing=\"0\" cellpadding=\"0\" width=\"100%\">\\n    <tbody>\\n      <tr><td valign=\"top\">\\n          <p align=\"justify\">Благотворительный фонд &laquo;АК БАРС СОЗИДАНИЕ&raquo; совместно с ОАО &laquo;АК БАРС&raquo; БАНК объявил о корпоративном проекте «Мы - вместе!». Акция направлена на детей, в силу той или иной причины не познавших родительской любви. Каждый сотрудник в свой день рождения может поздравить малыша, родившегося с ним в один день или месяц! </p>\\n        \\n          <p align=\"justify\">На собранные средства Фонд ежемесячно организует мероприятия для воспитанников детских домов, на которых сотрудники Фонда и Банка поздравляют именинников месяца и вручают подарочные сертификаты, для того, чтобы каждый ребенок смог реализовать свою заветную мечту.</p>\\n        </td><td valign=\"top\" width=\"208\" align=\"right\"><img id=\"bxid_425714\" src=\"images/img-vmeste.jpg\" width=\"208\" height=\"173\"  /></td></tr>\\n    </tbody>\\n  </table>\\n</div> <div class=\"dobro\"> \\n  <h2><a href=\"/project/news_detail.php?ID=1967\" >Социальный проект «ТВОРИ ДОБРО»</a></h2>\\n \\n  <table border=\"0\" cellspacing=\"0\" cellpadding=\"0\" width=\"100%\"> \\n    <tbody> \\n      <tr><td valign=\"top\"> \\n          <p align=\"justify\">Ежедневно на адрес Фонда поступают десятки писем от родителей, чьи дети нуждаются в дорогостоящем лечении. Судьба этих детей зависит от своевременно оказанной медицинской помощи.Основная цель проекта &mdash; собрать средства для оказания экстренной медицинской помощи тяжелобольным детям.</p>\\n        \\n          <p><a href=\"/project/tvori_dobro/index.ready.php\" style=\"margin-right:20px;\" >Помощь оказана</a> <a href=\"/project/tvori_dobro/index.need.php\" style=\"color:#F00;\" >Им нужна помощь »</a> </p>\\n         </td><td valign=\"top\" width=\"208\" align=\"right\"><img src=\"images/TVORI_DOBRO.jpg\" width=\"208\" height=\"173\"  /></td></tr>\\n     </tbody>\\n   </table>\\n \\n  <br />\\n </div> Им нужна помощь Абдуллина Аделина (26.11.2014 г.р.) Диагноз :\\xa0острый лимфобластный лейкоз с положительной филадельфийской хромосой Необходимо: пройти курс лечения в Германии, стоимостью 367 000,00 € (29 689 719,29 руб.) Миниханов Булат (28.08.2014 г.р.) Диагноз Булата:\\xa0Синдром Гольденхара или синдром гемифациальной микросомии (микротия правой ушной раковины, атрезия слухового прохода, недоразвитие челюсти справа). Необходима дорогостоящая операция по восстановлению ушной раковины и исправлению асимметрии лица. Недостающая сумма -\\xa0600 000, 00 руб. Вероника Гришанова (23.02.2006 г.р.) Благотворительный фонд «АК БАРС СОЗИДАНИЕ» совместно с Добро Mail.ru собирает деньги, чтобы купить слуховые аппараты для шестиклассницы Вероники. У девочки двусторонняя тугоухость и ДЦП. Хайрутдинова Азалия (08.10.2011 г.р.) БФ «АК БАРС СОЗИДАНИЕ» собирает средства на специальные опоры-ходунки для слабовидящей 6-летней девочки с ДЦП и врожденным вывихом бедра. Гараев Ислам (18.10.2010 г.р.) Диагноз Ислама: ДЦП (задержка психо-речевого развития) Необходимо: Пройти курс лечения в г.Йошкар-Ола в «Клинике имени Севастьянова В.В. коррекции речи и нейрореабилитации», стоимостью 70 000,00 руб. Социальный проект «ТВОРИ ДОБРО» Помощь оказана События <table width=\"100%\" border=\"0\" cellspacing=\"0\" cellpadding=\"0\">\\n                        <tr>\\n                          <td width=\"1\" valign=\"top\">                          <a href=\"/events/news_detail.php?ID=7444&section=\"><img class=\"preview_picture\" border=\"0\" src=\"/upload/iblock/d6c/11.jpg\" width=\"212\" height=\"159\" alt=\"\" title=\"Обладатели Гран-при фестиваля «Театр - All Inclusive»  съездили в Санкт-Петербург\" style=\"float:left\" /></a>\\n                                                  </td>\\n\\n                          <td valign=\"top\">\\n\\t\\t\\t\\t\\t\\t\\t\\t\\t\\t\\t\\t\\t\\t\\t<span class=\"news-date-time\">08.11.2018</span>\\n\\t\\t\\t\\t\\t\\t\\t\\n\\n                          <h2>  <a href=\"/events/news_detail.php?ID=7444&section=\">Обладатели Гран-при фестиваля «Театр - All Inclusive»  съездили в Санкт-Петербург</a></h2>\\n                            <p>\\n                                                            \\n<div style=\"text-align: justify;\">Интересный маршрут, доброе и внимательное отношение доставили настоящую радость детям, круг общения которых &ndash; в силу состояния здоровья – ограничен стенами детского дома&raquo;, - отмечает директор детского дома Гульнара Галиахметова.</div>\\n                                                           </p></td>\\n                        </tr>\\n                      </table> 08.11.2018 Обладатели Гран-при фестиваля «Театр - All Inclusive»  съездили в Санкт-Петербург Интересный маршрут, доброе и внимательное отношение доставили настоящую радость детям, круг общения которых – в силу состояния здоровья – ограничен стенами детского дома», - отмечает директор детского дома Гульнара Галиахметова. <div>\\n                      <table width=\"100%\" border=\"0\" cellspacing=\"0\" cellpadding=\"0\">\\n                        <tr>\\n                          <td width=\"1\" valign=\"top\"><img src=\"images/news-img/02.jpg\" width=\"212\" height=\"113\" /></td>\\n                          <td valign=\"top\"><h2><a href=\"/\">Акция «Помоги собраться в школу»</a></h2>\\n                            <p>26 августа 2008 года в рамках акции «Помоги собраться в школу», организованной ОАО «АК БАРС» БАНК совместно с Благотворительным фондом «АК БАРС СОЗИДАНИЕ», 86 школьников получили в подарок спортивные костюмы и обувь.</p></td>\\n                        </tr>\\n                      </table>\\n          </div> <table width=\"100%\" border=\"0\" cellspacing=\"0\" cellpadding=\"0\">\\n                        <tr>\\n                          <td width=\"1\" valign=\"top\">                          <a href=\"/events/news_detail.php?ID=7443&section=\"><img class=\"preview_picture\" border=\"0\" src=\"/upload/iblock/4ae/5.JPG\" width=\"212\" height=\"159\" alt=\"\" title=\"Декада пожилых людей - 2018\" style=\"float:left\" /></a>\\n                                                  </td>\\n\\n                          <td valign=\"top\">\\n\\t\\t\\t\\t\\t\\t\\t\\t\\t\\t\\t\\t\\t\\t\\t<span class=\"news-date-time\">29.10.2018</span>\\n\\t\\t\\t\\t\\t\\t\\t\\n\\n                          <h2>  <a href=\"/events/news_detail.php?ID=7443&section=\">Декада пожилых людей - 2018</a></h2>\\n                            <p>\\n                                                            \\n<div style=\"text-align: justify;\">26 октября 2017 г. в рамках декады пожилых людей &laquo;АК БАРС СОЗИДАНИЕ&raquo; посетил ГАУСО «Арский дом-интернат для престарелых и инвалидов». В честь праздника Фонд подарил жителям Дома продуктовые пакеты, а дому-интернату &ndash; профессиональную стиральную машину &quot;ASKO&quot;.\\xa0</div>\\n                                                           </p></td>\\n                        </tr>\\n                      </table> 29.10.2018 Декада пожилых людей - 2018 26 октября 2017 г. в рамках декады пожилых людей «АК БАРС СОЗИДАНИЕ» посетил ГАУСО «Арский дом-интернат для престарелых и инвалидов». В честь праздника Фонд подарил жителям Дома продуктовые пакеты, а дому-интернату – профессиональную стиральную машину \"ASKO\". <div>\\n                      <table width=\"100%\" border=\"0\" cellspacing=\"0\" cellpadding=\"0\">\\n                        <tr>\\n                          <td width=\"1\" valign=\"top\"><img src=\"images/news-img/02.jpg\" width=\"212\" height=\"113\" /></td>\\n                          <td valign=\"top\"><h2><a href=\"/\">Акция «Помоги собраться в школу»</a></h2>\\n                            <p>26 августа 2008 года в рамках акции «Помоги собраться в школу», организованной ОАО «АК БАРС» БАНК совместно с Благотворительным фондом «АК БАРС СОЗИДАНИЕ», 86 школьников получили в подарок спортивные костюмы и обувь.</p></td>\\n                        </tr>\\n                      </table>\\n          </div> Благодарности Во все времена доброта и милосердие являлись наивысшими проявлениями человеческой души. «Как бы мы ни понимали добро, жизнь наша есть не что иное, как стремление к добру», – говорил Л. Н. Толстой. Отрадно, что в XXI веке, в эпоху великих открытий и новых технологий, возрождаются традиции благодарения и по-новому звучат высказывания поэтов-мыслителей эпохи Просвещения: «Отнимите у нашего сердца любовь к добру – вы отнимите всю прелесть жизни… Доброта приносит радость в сердца людей, шагающих рядом с нами по унылой дороге жизни…» Достижения наших подопечных РєР°СЂС‚РёРЅРєР°. РІ СЃС‚РёР»СЏС… СЃС‚СЂРѕРєР° 162 СѓР±СЂР°С‚СЊ display: none; РµРЅРґ от мамы Егора Чухонцева | 08.11.2018 Добрый вечер! Мы с сыночком от всей души благодарим Благотворительный фонд \"АК БАРС СОЗИДАНИЕ\" и всех неравнодушных людей с добрыми сердцами за предоставленную возможность пройти курс лечения в реабилитационном центре \"ДОБРЫЕ РУКИ\"! Дай Бог вам здоровья и счастья! Спасибо вам большое! с уважением, Нина Чухонцева РєР°СЂС‚РёРЅРєР°. РІ СЃС‚РёР»СЏС… СЃС‚СЂРѕРєР° 162 СѓР±СЂР°С‚СЊ display: none; РµРЅРґ от мамы Мухутдинова Данияра | 03.11.2018 Мы, семья Мухутдиновых, выражаем огромную благодарность сотрудникам и благотворителям Фонда за предоставленную возможность нашему сыну пройти курс обкалывания в центре доктора Плеханова Л.А. Благодаря Вам мы получили своевременное, полноценное лечение, веру в здоровое будущее нашего ребенка. Желаем всем Вам крепкого здоровья, большого человеческого счастья, процветания и успехов в вашем нелегком деле. РєР°СЂС‚РёРЅРєР°. РІ СЃС‚РёР»СЏС… СЃС‚СЂРѕРєР° 162 СѓР±СЂР°С‚СЊ display: none; РµРЅРґ от Адели Зиннатуллиной | 04.10.2018 Здравствуйте! Благодаря Вам сейчас пишу это письмо со своего компьютера! Хочу сказать спасибо всей команде Благотворительного фонда \"АК БАРС СОЗИДАНИЕ\" за оказанную помощь. Благодаря Вам осуществилась моя мечта и теперь я могу самостоятельно писать письма, делать рефераты и проекты. Спасибо Вам за это большое! РєР°СЂС‚РёРЅРєР°. РІ СЃС‚РёР»СЏС… СЃС‚СЂРѕРєР° 162 СѓР±СЂР°С‚СЊ display: none; РµРЅРґ АНО \"Добрая Казань\" | 25.09.2018 Благодарим Благотворительный фонд \"АК БАРС СОЗИДАНИЕ\" за вклад в реализацию \"Уроков добра\" в рамках ежегодной \"Осенней недели добра\" в г. Казани в 2018 году С уважением, АНО \"Добрая Казань\" РєР°СЂС‚РёРЅРєР°. РІ СЃС‚РёР»СЏС… СЃС‚СЂРѕРєР° 162 СѓР±СЂР°С‚СЊ display: none; РµРЅРґ от Пузиковой Натальи, г. Кемерово | 23.08.2018 Примите слова благодарности за моральную и материальную поддержку в связи с трагедией в ТРЦ \"Зимняя вишня\" г. Кемерово. Спасибо Вам за чуткость и способность сопереживать, умение и желание поддержать тех, кто в этом нуждается! С уважением, Пузикова Наталья Николаевна и мой внук Москаленко Сережа, г. Кемерово, 2018 г. РєР°СЂС‚РёРЅРєР°. РІ СЃС‚РёР»СЏС… СЃС‚СЂРѕРєР° 162 СѓР±СЂР°С‚СЊ display: none; РµРЅРґ ГБОУ \"Пестречинская школа-интернат\" | 09.07.2018 Администрация, педагогический коллектив ГБОУ \"Пестречинская школа-интернат для детей с ограниченными возможностями здоровья\" выражает Вам огромную благодарность за оказанную помощь. Добрые дела не остаются незамеченными - они как маяки светят тем, кто ждет помощи. Мы уверены, что Ваш пример показателен и для других благотворителей. Оказывая помощь, Вы дарите не просто материальные ценности, а даете радость и надежду. Пусть Ваша доброта и щедрость вернутся к Вам сторицей. Желаем всему коллективу \"АК БАРС СОЗИДАНИЕ\" всяческих благ, здоровья, процветания и побольше тепла на Вашем жизненном пути. Пусть Вам сопутствует энергия и оптимизм, удача и глубокая вера в исполнение задуманных Вами благородных замыслов. С искренними пожеланиями здоровья, благополучия и удачи! Надеемся на дальнейшее сотрудничество! Директор ГБОУ \"Пестречинская школа-интернат\" З.Б. Габидуллина РєР°СЂС‚РёРЅРєР°. РІ СЃС‚РёР»СЏС… СЃС‚СЂРѕРєР° 162 СѓР±СЂР°С‚СЊ display: none; РµРЅРґ Добрый виджет | 05.07.2018 Благотворительный фонд \"АК БАРС СОЗИДАНИЕ\" благодарит Ивана Кострова – разработчика платформы \"Goody.im\" за создание возможности для перечисления пожертвований. Слова \"Для добрых дел нужна Ваша помощь\" и милое улыбающееся \"лицо\" виджета уже знакомо друзьям Фонда, которые являются посетителями сайта. Благодаря данному продукту оказать помощь через сайт стало проще и удобнее. Оформление и задумка платформы хороши тем, что каждый благотворитель, не уходя с главной страницы Фонда, может выбрать свою сумму, на которую он хочет оказать помощь (300, 500 или 700 рублей) и сразу на электронную почту может получить чек о том, что его средства дошли до адресата. Некоммерческим организациям также удобно работать с Goody, так как виджет очень удобно и красиво располагается на сайте, не загораживая основную информацию, в то же время не теряется среди потока новостей. Фонд желает Ивану Кострову и виджету Goody светлого будущего, большого успеха, добрых свершений и единомышленников! Сайт и страница виджета: https://www.goody.im / , https://www.facebook.com/goodyim/ РєР°СЂС‚РёРЅРєР°. РІ СЃС‚РёР»СЏС… СЃС‚СЂРѕРєР° 162 СѓР±СЂР°С‚СЊ display: none; РµРЅРґ ГБОУ \"Уруссинская школа-интернат для детей с ОВЗ\" | 18.06.2018 Коллектив и воспитанники Уруссинской школы-интерната для детей с ограниченными возможностями здоровья выражает огромную благодарность благотворительному фонду \"АК БАРС СОЗИДАНИЕ\" за незабываемую организацию и проведение фестиваля \"Театр All Inclusive\". Участие детей с ОВЗ в таких мероприятиях вселяет в их сердца веру в свои силы, помогает раскрыть творческие способности и более успешно социализироваться в обществе. Вы подарили нашим воспитанникам настоящий праздник театра, помогли почувствовать себя настоящими артистами на большой сцене! Огромное спасибо за чуткое отношение к детям, за понимание и помощь! Желаем Вам и Вашим близким здоровья, счастья, а Фонду добра и процветания!!! РєР°СЂС‚РёРЅРєР°. РІ СЃС‚РёР»СЏС… СЃС‚СЂРѕРєР° 162 СѓР±СЂР°С‚СЊ display: none; РµРЅРґ Бабушка Даны Андреевой | 10.05.2018 Спасибо большое фонду, за разнообразие нашей жизни, спасибо что приглашаете на различные мероприятия. Анна бабушка Даны Андреевой РєР°СЂС‚РёРЅРєР°. РІ СЃС‚РёР»СЏС… СЃС‚СЂРѕРєР° 162 СѓР±СЂР°С‚СЊ display: none; РµРЅРґ от семьи Егоровых | 02.04.2018 Хотим выразить благодарность Благотворительному фонду \"АК БАРС СОЗИДАНИЕ\" за подаренный нашей семье компьютер и пожелать дальнейшего процветания, больших возможностей. Огромное вам спасибо за Ваши чуткие сердца! семья Егоровых Читать все Ваше имя Ваше сообщение Защита от автоматического заполнения Введите слово с картинки * : Меню типа лефт /Меню типа лефт Начало левого включения Левое включение: текст или каталог в левой колонке редактируются для каждого раздела отдельно  в файлах sect_inc.php <div class=\"accepted_part\">\\n</div> Вы можете помочь <a href=\"/events/news_detail.php?ID=2381\"><img src=\"/images/left_b/sms-3.gif\" alt=\"\" width=\"325\" height=\"100\" /></a> <li><a href=\"http://akbarssozidanie.ru/donate.php\" target=\"_blank\" class=\"link_wrapper\">\\n\\t\\t\\t<img src=\"/bitrix/templates/main/i/left-col/ya.png\" alt=\"Яндекс Деньги\" width=\"110\" height=\"75\" />\\n\\t\\t\\t<strong>Яндекс Деньги</strong>\\n</a></li>\\n\\t\\t<li><a href=\"/upload/europlat-instruction.doc\" target=\"_blank\" class=\"link_wrapper\" title=\"Инструкция, 1Мб\">\\n\\t\\t\\t<img src=\"/bitrix/templates/main/i/left-col/europlat.png\" alt=\"EuroPlat\" width=\"110\" height=\"75\" />\\n\\t\\t\\t<strong>Европлат</strong>\\n\\t\\t</a></li> Платежная система Киви <li><a href=\"http://www.comepay.ru/\" target=\"_blank\" class=\"link_wrapper\">\\n\\t\\t\\t<img src=\"/bitrix/templates/main/i/left-col/comepay.png\" alt=\"Платежная система Comepay\" width=\"110\" height=\"75\" />\\n\\t\\t\\t<strong>Платежная система Comepay</strong>\\n\\t\\t</a></li> Банкоматы «АК БАРС» Банка Оплата на Портале госуслуг РТ комиссия не взимается <a href=\"/ten_year/\"><img src=\"/bitrix/templates/main/i/left-col/10let-v4.jpg\" alt=\"10 лет\" width=\"325\" /></a> <a href=\"/project/co-brand-card/\" target=\"_blank\"><img src=\"/images/left_b/banner-karta.jpg\" width=\"325\" height=\"77\" style=\"margin: 5px 0;\" /></a>\\n\\t<a href=\"/events/news_detail.php?ID=7311\" target=\"_blank\"><img src=\"/images/left_b/meeting_nko.png\" width=\"325\" style=\"margin: 0 0 5px;\" /></a>\\n<a href=\"/upload/news/2017/polozhenie-konkurs-otchetov-2017.doc\" target=\"_blank\"><img src=\"/images/left_b/tochka-otscheta.jpg\" width=\"325\" height=\"100\" style=\"margin: 0 0 5px;\" /></a>\\n<a href=\"/konkurs-donor/\"><img src=\"/bitrix/templates/main/i/left-col/konkurs-donor.jpg\" alt=\"5\" width=\"325\" /></a>\\n<a href=\"http://www.akbf.ru/page.asp?rbr=27&nws=4471\" target=\"_blank\"><img src=\"/bitrix/templates/main/i/left-col/invest.jpg\" alt=\"2\" width=\"325\" height=\"77\" /></a>\\n\\t<a href=\"/upload/akbarssozidanie-anketa.doc\"><img src=\"/bitrix/templates/main/i/left-col/akbarssozidanie-anketa.jpg\" alt=\"Анкета-опросник о Центрах Здоровья\" width=\"325\" height=\"77\" /></a>\\n<a href=\"/tvori_dobro/\" style=\"display:none;\"><img src=\"/images/help_ATM_2-2.jpg\" width=\"329\" border=\"0\" /></a>\\n<div style=\"margin-top:10px;display:none;\"><a href=\"http://www.akbars.ru/individuals/deposits/fixed_deposit/create_good/\" target=\"_blank\"><img src=\"/images/abb-tvori_dobro.jpg\" alt=\"Срочный вклад «Твори добро»\" border=\"0\" width=\"329\" /></a></div>\\n<div style=\"margin-top:10px;display:none;\"><a href=\"/family/\"><img src=\"/images/family-and-nko.png\" alt=\"Семья и НКО: Грани взаимодействия\" border=\"0\" width=\"329\" height=\"77\" /></a></div>\\n\\n<div style=\"margin-top:10px;display:none;\"><a href=\"https://uslugi.tatar.ru/charity/bulgaria\" target=\"_blank\"><img src=\"/images/charity-bulgaria.gif\" alt=\"Благотворительная акция по сбору средств жертвам крушения теплохода «Булгария»\" border=\"0\" /></a></div>\\n<div style=\"margin-top:10px;display:none;\"><a href=\"/download/polozhenie-dpi-2011.doc\"><img src=\"/images/prikladnoe2.gif\" alt=\"\"  border=\"0\" /></a></div>\\n\\n<div style=\"margin-top:10px; display:none;text-align: center;\"><a href=\"/events/news_detail.php?ID=2094\"><img src=\"/images/futball.jpg\" alt=\"Благотворительный футбольный матч\"  border=\"0\" /></a></div>\\n<div style=\"margin-top:10px;display:none;\"><a href=\"/download/polozhenie-donorstvo.doc\"><img src=\"/images/banner_donor.gif\" alt=\"\"  border=\"0\" width=\"329\" /></a></div>\\n<div style=\"margin-top:10px;display:none;\"><a href=\"http://www.akbf.ru/page.asp?rbr=27&nws=4471\" target=\"_blank\"><img src=\"/images/b-akbf.jpg\" alt=\"\"  border=\"0\" width=\"329\" /></a></div> <a href=\"/project/pomosh-krymu/\"><img src=\"/images/left_b/pomosh-krymu.png\" alt=\"Помощь жителям Крыма\" width=\"325\" height=\"73\" /></a>\\n\\t<a href=\"/project/konkurs-uchastie-konferencii/\"><img src=\"/bitrix/templates/main/i/left-col/belye-nochi-fandraizinga.png\" alt=\"Конкурс на участие в конференции «Белые ночи фандрайзинга»\"  border=\"0\" /></a>\\n <a href=\"/download/polozhenie-shag-vpered-2012.doc\"><img src=\"/images/left_b/shag-vpered.jpg\" alt=\"Конкурс детской художественной самодеятельности «Шаг вперед»\"  border=\"0\" /></a>\\n<a href=\"/download/polozhenie-po-konkursu-tvoridobro.zip\"><img src=\"/images/left_b/konkurs-card-tvoridobro.gif\" alt=\"Конкурс по продвижению кобрендинговой благотворительной карты «Твори добро»\"  border=\"0\" /></a>\\n    <a href=\"/download/polozhenie-donorstvo.doc\" target=\"_blank\"><img src=\"/bitrix/templates/main/i/left-col/be-donor.jpg\" alt=\"3\" width=\"325\" height=\"77\" /></a> Проекты Республиканского совета по вопросам благотворительной деятельности: <a href=\"/project/70letpobedy/\" target=\"_blank\" style=\"margin-top: 2px;\"><img src=\"/images/left_b/70letpobedy.jpg\" alt=\"1\" width=\"325\" height=\"77\" /></a> <a href=\"/download/help-aviacatastrofa.doc\" target=\"_blank\"><img src=\"/images/left_b/help-aviacatastrofe.png\" alt=\"1\" width=\"325\" height=\"77\" /></a>\\n<div  style=\"display:none;\">\\n<div style=\"padding:0 18px;\">         \\n  <table width=\"100%\" border=\"0\" cellpadding=\"0\">\\n    <tr>\\n      <td align=\"left\"><table width=\"100%\" border=\"0\" cellpadding=\"2\" cellspacing=\"0\">\\n          <tr>\\n            <td align=\"left\" valign=\"top\"><a href=\"http://www.blagort.ru/\" target=\"_blank\"><img src=\"/images/left_b/left_b_help_child.gif\" width=\"141\" height=\"65\" border=\"0\" /></a></td>\\n          </tr>\\n          <tr>\\n            <td align=\"left\" valign=\"bottom\"><a href=\"http://www.blagort.ru/info/sovet/akcii/dobrii_terminal/\" target=\"_blank\"><img src=\"/images/left_b/left_b_terminal.gif\" width=\"141\" height=\"65\" border=\"0\" /></a></td>\\n          </tr>\\n        </table></td>\\n      <td align=\"center\"><a href=\"http://www.blagort.ru/info/Vozrogdenie/\" target=\"_blank\"><img src=\"/images/left_b/vozrozhdenie.gif\" alt=\"Возрождение историко-архитектурных памятников Болгар и Свияжска\" width=\"140\" height=\"136\" border=\"0\" /></a></td>\\n    </tr>\\n<tr>\\n<td colspan=\"2\" style=\"padding-left: 3px;\"></td>\\n</tr>\\n  </table>\\n\\t<h3 style=\"color: #535353;\">Электронные платежи</h3>\\n\\t<a href=\"http://www.qiwi.ru/\"><img src=\"/bitrix/templates/main/images/partners/qivi.gif\" border=\"0\" align=\"left\" style=\"margin: 0 15px 0 0\" /></a>\\n\\t<a href=\"https://www.wellpay.ru/\"><img src=\"/bitrix/templates/main/images/partners/wellpay.gif\" border=\"0\" style=\"margin: 0 15px 0 0\" /></a>\\n\\t<a href=\"http://akbarssozidanie.ru/donate.php\" target=\"_blank\"><img src=\"http://money.yandex.ru/img/yamoney_button.gif\" alt=\"Я принимаю Яндекс.Деньги\" title=\"Я принимаю Яндекс.Деньги\" border=\"0\" width=\"88\" height=\"31\"/></a>\\n\\t<div style=\"clear:both; padding:10px 0;\">\\n\\t\\t<h3 style=\"color: #535353;\">Платежи через банк</h3>\\n\\t\\t<a href=\"/upload/invoice.doc\">Скачать квитанцию</a>\\n\\t</div>\\n</div>\\n</div> Конец левого включения div.partners h2 {font-size: 15px; margin-right: 1em; margin-top: 10px; text-align: right} Стратегический партнер: Партнеры по реализации социальных проектов: <a href=\"http://rcatlant.ru/\" title=\"Атлант. Центр физической реабилитации и эрготерапии\" target=\"_blank\"><img src=\"/bitrix/templates/main/images/partners/rc-atlant.png\" alt=\"Атлант. Центр физической реабилитации и эрготерапии\" border=\"0\" /></a> Информационные партнеры: <a href=\"http://rea.center/\" target=\"_blank\"><img src=\"/bitrix/templates/main/images/partners/dobrye-ruki.png\" alt=\"Реацентр «Добрые руки»\" width=\"53\" height=\"45\" border=\"0\" /></a> <a href=\"http://www.kazan2013.ru\" target=\"_blank\"><img src=\"/bitrix/templates/main/images/partners/uni2013.gif\" alt=\"Универсиада 2013\" width=\"41\" height=\"51\" border=\"0\" style=\"margin-right:20px;\" /></a><a href=\"http://www.icl.ru/\" target=\"_blank\" ><img src=\"/bitrix/templates/main/images/partners/icl.gif\" alt=\"ICL КПО ВС\" width=\"53\" height=\"37\" border=\"0\" /></a><a href=\"http://www.akbf.ru/\" target=\"_blank\"><img src=\"/bitrix/templates/main/images/partners/abf.gif\" alt=\"АК БАРС Финанс\" border=\"0\" /></a><a href=\"http://www.medicom-mtd.com/\" target=\"_blank\"><img src=\"/bitrix/templates/main/images/partners/medicom.gif\" alt=\"ООО НПКФ «Медиком МТД»\" width=\"60\" height=\"37\" border=\"0\" /></a><a href=\"http://www.tatneftarena.com/\" target=\"_blank\"><img src=\"/bitrix/templates/main/images/partners/tna.gif\" alt=\"Татнефть арена\" width=\"89\" height=\"37\" border=\"0\" /></a><a href=\"http://www.europlat.biz\" target=\"_blank\"><img src=\"/bitrix/templates/main/images/partners/europlat.png\" alt=\"EuroPlat\" width=\"59\" height=\"39\" border=\"0\" /></a> © 2008 «АК БАРС СОЗИДАНИЕ» Создание сайтов var gaJsHost = ((\"https:\" == document.location.protocol) ? \"https://ssl.\" : \"http://www.\");\\ndocument.write(unescape(\"%3Cscript src=\\'\" + gaJsHost + \"google-analytics.com/ga.js\\' type=\\'text/javascript\\'%3E%3C/script%3E\")); try {\\nvar pageTracker = _gat._getTracker(\"UA-6301720-19\");\\npageTracker._trackPageview();\\n} catch(err) {} Yandex.Metrika counter (function (d, w, c) {\\n        (w[c] = w[c] || []).push(function() {\\n            try {\\n                w.yaCounter31645978 = new Ya.Metrika({\\n                    id:31645978,\\n                    clickmap:true,\\n                    trackLinks:true,\\n                    accurateTrackBounce:true,\\n                    webvisor:true\\n                });\\n            } catch(e) { }\\n        });\\n\\n        var n = d.getElementsByTagName(\"script\")[0],\\n            s = d.createElement(\"script\"),\\n            f = function () { n.parentNode.insertBefore(s, n); };\\n        s.type = \"text/javascript\";\\n        s.async = true;\\n        s.src = \"https://mc.yandex.ru/metrika/watch.js\";\\n\\n        if (w.opera == \"[object Opera]\") {\\n            d.addEventListener(\"DOMContentLoaded\", f, false);\\n        } else { f(); }\\n    })(document, window, \"yandex_metrika_callbacks\"); <div><img src=\"https://mc.yandex.ru/watch/31645978\" style=\"position:absolute; left:-9999px;\" alt=\"\" /></div> /Yandex.Metrika counter'"
      ]
     },
     "execution_count": 177,
     "metadata": {},
     "output_type": "execute_result"
    }
   ],
   "source": [
    "concat_dataset[\"web_text\"].loc[22]"
   ]
  },
  {
   "cell_type": "code",
   "execution_count": 6,
   "metadata": {},
   "outputs": [],
   "source": [
    "mapping = pd.read_excel(\"np_ngo_mappings.xlsx\")\n",
    "mapping"
   ]
  },
  {
   "cell_type": "code",
   "execution_count": 7,
   "metadata": {},
   "outputs": [
    {
     "name": "stderr",
     "output_type": "stream",
     "text": [
      "/home/ubuntu/PycharmProjects/nko_classification/parser.py:16: UserWarning: No parser was explicitly specified, so I'm using the best available HTML parser for this system (\"lxml\"). This usually isn't a problem, but if you run this code on another system, or in a different virtual environment, it may use a different parser and behave differently.\n",
      "\n",
      "The code that caused this warning is on line 16 of the file /home/ubuntu/PycharmProjects/nko_classification/parser.py. To get rid of this warning, pass the additional argument 'features=\"lxml\"' to the BeautifulSoup constructor.\n",
      "\n",
      "  soup = BeautifulSoup(html)\n"
     ]
    }
   ],
   "source": [
    "dataset[\"links\"] = dataset[\"Ссылка на сайт\"].apply(parser.get_links)"
   ]
  },
  {
   "cell_type": "code",
   "execution_count": null,
   "metadata": {},
   "outputs": [],
   "source": []
  },
  {
   "cell_type": "code",
   "execution_count": null,
   "metadata": {},
   "outputs": [],
   "source": []
  }
 ],
 "metadata": {
  "kernelspec": {
   "display_name": "Python 3",
   "language": "python",
   "name": "python3"
  },
  "language_info": {
   "codemirror_mode": {
    "name": "ipython",
    "version": 3
   },
   "file_extension": ".py",
   "mimetype": "text/x-python",
   "name": "python",
   "nbconvert_exporter": "python",
   "pygments_lexer": "ipython3",
   "version": "3.6.3"
  }
 },
 "nbformat": 4,
 "nbformat_minor": 2
}
